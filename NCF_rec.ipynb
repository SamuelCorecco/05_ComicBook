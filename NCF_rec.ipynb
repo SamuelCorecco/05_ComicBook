{
 "cells": [
  {
   "cell_type": "code",
   "execution_count": 6,
   "id": "initial_id",
   "metadata": {
    "collapsed": true,
    "ExecuteTime": {
     "end_time": "2024-05-11T13:04:31.360603Z",
     "start_time": "2024-05-11T13:04:25.654257Z"
    }
   },
   "outputs": [
    {
     "name": "stdout",
     "output_type": "stream",
     "text": [
      "WARNING:tensorflow:From /Users/yassine/anaconda3/lib/python3.11/site-packages/tensorflow/python/compat/v2_compat.py:98: disable_resource_variables (from tensorflow.python.ops.resource_variables_toggle) is deprecated and will be removed in a future version.\n",
      "Instructions for updating:\n",
      "non-resource variables are not supported in the long term\n"
     ]
    }
   ],
   "source": [
    "import pandas as pd\n",
    "import numpy as np\n",
    "import matplotlib.pyplot as plt\n",
    "\n",
    "from libreco.data import random_split, DatasetPure\n",
    "from libreco.algorithms import NCF  # pure data, \n",
    "from libreco.evaluation import evaluate"
   ]
  },
  {
   "cell_type": "code",
   "outputs": [],
   "source": [
    "anime = pd.read_csv(\"anime.csv\")\n",
    "rating = pd.read_csv(\"rating.csv\")\n"
   ],
   "metadata": {
    "collapsed": false,
    "ExecuteTime": {
     "end_time": "2024-05-11T13:20:00.624408Z",
     "start_time": "2024-05-11T13:19:59.942898Z"
    }
   },
   "id": "564a54a4764ab2e4",
   "execution_count": 17
  },
  {
   "cell_type": "code",
   "outputs": [
    {
     "data": {
      "text/plain": "   anime_id                              name  \\\n0     32281                    Kimi no Na wa.   \n1      5114  Fullmetal Alchemist: Brotherhood   \n2     28977                          Gintama°   \n3      9253                       Steins;Gate   \n4      9969                     Gintama&#039;   \n\n                                               genre   type episodes  rating  \\\n0               Drama, Romance, School, Supernatural  Movie        1    9.37   \n1  Action, Adventure, Drama, Fantasy, Magic, Mili...     TV       64    9.26   \n2  Action, Comedy, Historical, Parody, Samurai, S...     TV       51    9.25   \n3                                   Sci-Fi, Thriller     TV       24    9.17   \n4  Action, Comedy, Historical, Parody, Samurai, S...     TV       51    9.16   \n\n   members  \n0   200630  \n1   793665  \n2   114262  \n3   673572  \n4   151266  ",
      "text/html": "<div>\n<style scoped>\n    .dataframe tbody tr th:only-of-type {\n        vertical-align: middle;\n    }\n\n    .dataframe tbody tr th {\n        vertical-align: top;\n    }\n\n    .dataframe thead th {\n        text-align: right;\n    }\n</style>\n<table border=\"1\" class=\"dataframe\">\n  <thead>\n    <tr style=\"text-align: right;\">\n      <th></th>\n      <th>anime_id</th>\n      <th>name</th>\n      <th>genre</th>\n      <th>type</th>\n      <th>episodes</th>\n      <th>rating</th>\n      <th>members</th>\n    </tr>\n  </thead>\n  <tbody>\n    <tr>\n      <th>0</th>\n      <td>32281</td>\n      <td>Kimi no Na wa.</td>\n      <td>Drama, Romance, School, Supernatural</td>\n      <td>Movie</td>\n      <td>1</td>\n      <td>9.37</td>\n      <td>200630</td>\n    </tr>\n    <tr>\n      <th>1</th>\n      <td>5114</td>\n      <td>Fullmetal Alchemist: Brotherhood</td>\n      <td>Action, Adventure, Drama, Fantasy, Magic, Mili...</td>\n      <td>TV</td>\n      <td>64</td>\n      <td>9.26</td>\n      <td>793665</td>\n    </tr>\n    <tr>\n      <th>2</th>\n      <td>28977</td>\n      <td>Gintama°</td>\n      <td>Action, Comedy, Historical, Parody, Samurai, S...</td>\n      <td>TV</td>\n      <td>51</td>\n      <td>9.25</td>\n      <td>114262</td>\n    </tr>\n    <tr>\n      <th>3</th>\n      <td>9253</td>\n      <td>Steins;Gate</td>\n      <td>Sci-Fi, Thriller</td>\n      <td>TV</td>\n      <td>24</td>\n      <td>9.17</td>\n      <td>673572</td>\n    </tr>\n    <tr>\n      <th>4</th>\n      <td>9969</td>\n      <td>Gintama&amp;#039;</td>\n      <td>Action, Comedy, Historical, Parody, Samurai, S...</td>\n      <td>TV</td>\n      <td>51</td>\n      <td>9.16</td>\n      <td>151266</td>\n    </tr>\n  </tbody>\n</table>\n</div>"
     },
     "execution_count": 10,
     "metadata": {},
     "output_type": "execute_result"
    }
   ],
   "source": [
    "anime.head()"
   ],
   "metadata": {
    "collapsed": false,
    "ExecuteTime": {
     "end_time": "2024-05-11T13:04:55.850261Z",
     "start_time": "2024-05-11T13:04:55.843236Z"
    }
   },
   "id": "c96907fc9957b474",
   "execution_count": 10
  },
  {
   "cell_type": "markdown",
   "source": [
    "we will try to build our model without considering the no ratings"
   ],
   "metadata": {
    "collapsed": false
   },
   "id": "7951ff2a33e3c834"
  },
  {
   "cell_type": "code",
   "outputs": [
    {
     "data": {
      "text/plain": "     user_id  anime_id  rating\n47         1      8074      10\n81         1     11617      10\n83         1     11757      10\n101        1     15451      10\n153        2     11771      10",
      "text/html": "<div>\n<style scoped>\n    .dataframe tbody tr th:only-of-type {\n        vertical-align: middle;\n    }\n\n    .dataframe tbody tr th {\n        vertical-align: top;\n    }\n\n    .dataframe thead th {\n        text-align: right;\n    }\n</style>\n<table border=\"1\" class=\"dataframe\">\n  <thead>\n    <tr style=\"text-align: right;\">\n      <th></th>\n      <th>user_id</th>\n      <th>anime_id</th>\n      <th>rating</th>\n    </tr>\n  </thead>\n  <tbody>\n    <tr>\n      <th>47</th>\n      <td>1</td>\n      <td>8074</td>\n      <td>10</td>\n    </tr>\n    <tr>\n      <th>81</th>\n      <td>1</td>\n      <td>11617</td>\n      <td>10</td>\n    </tr>\n    <tr>\n      <th>83</th>\n      <td>1</td>\n      <td>11757</td>\n      <td>10</td>\n    </tr>\n    <tr>\n      <th>101</th>\n      <td>1</td>\n      <td>15451</td>\n      <td>10</td>\n    </tr>\n    <tr>\n      <th>153</th>\n      <td>2</td>\n      <td>11771</td>\n      <td>10</td>\n    </tr>\n  </tbody>\n</table>\n</div>"
     },
     "execution_count": 18,
     "metadata": {},
     "output_type": "execute_result"
    }
   ],
   "source": [
    "rating = rating[rating.rating != -1]\n",
    "rating.head()"
   ],
   "metadata": {
    "collapsed": false,
    "ExecuteTime": {
     "end_time": "2024-05-11T13:20:02.565670Z",
     "start_time": "2024-05-11T13:20:02.453542Z"
    }
   },
   "id": "9afeb4a19a970380",
   "execution_count": 18
  },
  {
   "cell_type": "markdown",
   "source": [
    "now we will change the movie data frame to from labels to 1 hot vectors for the genres and type"
   ],
   "metadata": {
    "collapsed": false
   },
   "id": "37f82ef1d07fccef"
  },
  {
   "cell_type": "code",
   "outputs": [
    {
     "name": "stdout",
     "output_type": "stream",
     "text": [
      "   anime_id                              name  \\\n",
      "0     32281                    Kimi no Na wa.   \n",
      "1      5114  Fullmetal Alchemist: Brotherhood   \n",
      "2     28977                          Gintama°   \n",
      "3      9253                       Steins;Gate   \n",
      "4      9969                     Gintama&#039;   \n",
      "\n",
      "                                               genre   type episodes  rating  \\\n",
      "0               Drama, Romance, School, Supernatural  Movie        1    9.37   \n",
      "1  Action, Adventure, Drama, Fantasy, Magic, Mili...     TV       64    9.26   \n",
      "2  Action, Comedy, Historical, Parody, Samurai, S...     TV       51    9.25   \n",
      "3                                   Sci-Fi, Thriller     TV       24    9.17   \n",
      "4  Action, Comedy, Historical, Parody, Samurai, S...     TV       51    9.16   \n",
      "\n",
      "   members  \n",
      "0   200630  \n",
      "1   793665  \n",
      "2   114262  \n",
      "3   673572  \n",
      "4   151266  \n"
     ]
    },
    {
     "data": {
      "text/plain": "   anime_id                              name  \\\n0     32281                    Kimi no Na wa.   \n1      5114  Fullmetal Alchemist: Brotherhood   \n2     28977                          Gintama°   \n3      9253                       Steins;Gate   \n4      9969                     Gintama&#039;   \n\n                                               genre     type episodes  \\\n0             [Drama, Romance, School, Supernatural]  [Movie]        1   \n1  [Action, Adventure, Drama, Fantasy, Magic, Mil...     [TV]       64   \n2  [Action, Comedy, Historical, Parody, Samurai, ...     [TV]       51   \n3                                 [Sci-Fi, Thriller]     [TV]       24   \n4  [Action, Comedy, Historical, Parody, Samurai, ...     [TV]       51   \n\n   rating  members  \n0    9.37   200630  \n1    9.26   793665  \n2    9.25   114262  \n3    9.17   673572  \n4    9.16   151266  ",
      "text/html": "<div>\n<style scoped>\n    .dataframe tbody tr th:only-of-type {\n        vertical-align: middle;\n    }\n\n    .dataframe tbody tr th {\n        vertical-align: top;\n    }\n\n    .dataframe thead th {\n        text-align: right;\n    }\n</style>\n<table border=\"1\" class=\"dataframe\">\n  <thead>\n    <tr style=\"text-align: right;\">\n      <th></th>\n      <th>anime_id</th>\n      <th>name</th>\n      <th>genre</th>\n      <th>type</th>\n      <th>episodes</th>\n      <th>rating</th>\n      <th>members</th>\n    </tr>\n  </thead>\n  <tbody>\n    <tr>\n      <th>0</th>\n      <td>32281</td>\n      <td>Kimi no Na wa.</td>\n      <td>[Drama, Romance, School, Supernatural]</td>\n      <td>[Movie]</td>\n      <td>1</td>\n      <td>9.37</td>\n      <td>200630</td>\n    </tr>\n    <tr>\n      <th>1</th>\n      <td>5114</td>\n      <td>Fullmetal Alchemist: Brotherhood</td>\n      <td>[Action, Adventure, Drama, Fantasy, Magic, Mil...</td>\n      <td>[TV]</td>\n      <td>64</td>\n      <td>9.26</td>\n      <td>793665</td>\n    </tr>\n    <tr>\n      <th>2</th>\n      <td>28977</td>\n      <td>Gintama°</td>\n      <td>[Action, Comedy, Historical, Parody, Samurai, ...</td>\n      <td>[TV]</td>\n      <td>51</td>\n      <td>9.25</td>\n      <td>114262</td>\n    </tr>\n    <tr>\n      <th>3</th>\n      <td>9253</td>\n      <td>Steins;Gate</td>\n      <td>[Sci-Fi, Thriller]</td>\n      <td>[TV]</td>\n      <td>24</td>\n      <td>9.17</td>\n      <td>673572</td>\n    </tr>\n    <tr>\n      <th>4</th>\n      <td>9969</td>\n      <td>Gintama&amp;#039;</td>\n      <td>[Action, Comedy, Historical, Parody, Samurai, ...</td>\n      <td>[TV]</td>\n      <td>51</td>\n      <td>9.16</td>\n      <td>151266</td>\n    </tr>\n  </tbody>\n</table>\n</div>"
     },
     "execution_count": 19,
     "metadata": {},
     "output_type": "execute_result"
    }
   ],
   "source": [
    "anime = anime.dropna()\n",
    "anime = anime.reset_index(drop=True)\n",
    "anime[\"genre\"] = anime[\"genre\"].apply(lambda x: x.split(\", \"))\n",
    "anime[\"type\"] = anime[\"type\"].apply(lambda x: [x])\n",
    "anime.head()"
   ],
   "metadata": {
    "collapsed": false,
    "ExecuteTime": {
     "end_time": "2024-05-11T13:20:07.679619Z",
     "start_time": "2024-05-11T13:20:07.654564Z"
    }
   },
   "id": "12a88148a9798244",
   "execution_count": 19
  },
  {
   "cell_type": "code",
   "outputs": [
    {
     "data": {
      "text/plain": "   anime_id                              name  \\\n0     32281                    Kimi no Na wa.   \n1      5114  Fullmetal Alchemist: Brotherhood   \n2     28977                          Gintama°   \n3      9253                       Steins;Gate   \n4      9969                     Gintama&#039;   \n\n                                               genre     type episodes  \\\n0             [Drama, Romance, School, Supernatural]  [Movie]        1   \n1  [Action, Adventure, Drama, Fantasy, Magic, Mil...     [TV]       64   \n2  [Action, Comedy, Historical, Parody, Samurai, ...     [TV]       51   \n3                                 [Sci-Fi, Thriller]     [TV]       24   \n4  [Action, Comedy, Historical, Parody, Samurai, ...     [TV]       51   \n\n   rating  members  \n0    9.37   200630  \n1    9.26   793665  \n2    9.25   114262  \n3    9.17   673572  \n4    9.16   151266  ",
      "text/html": "<div>\n<style scoped>\n    .dataframe tbody tr th:only-of-type {\n        vertical-align: middle;\n    }\n\n    .dataframe tbody tr th {\n        vertical-align: top;\n    }\n\n    .dataframe thead th {\n        text-align: right;\n    }\n</style>\n<table border=\"1\" class=\"dataframe\">\n  <thead>\n    <tr style=\"text-align: right;\">\n      <th></th>\n      <th>anime_id</th>\n      <th>name</th>\n      <th>genre</th>\n      <th>type</th>\n      <th>episodes</th>\n      <th>rating</th>\n      <th>members</th>\n    </tr>\n  </thead>\n  <tbody>\n    <tr>\n      <th>0</th>\n      <td>32281</td>\n      <td>Kimi no Na wa.</td>\n      <td>[Drama, Romance, School, Supernatural]</td>\n      <td>[Movie]</td>\n      <td>1</td>\n      <td>9.37</td>\n      <td>200630</td>\n    </tr>\n    <tr>\n      <th>1</th>\n      <td>5114</td>\n      <td>Fullmetal Alchemist: Brotherhood</td>\n      <td>[Action, Adventure, Drama, Fantasy, Magic, Mil...</td>\n      <td>[TV]</td>\n      <td>64</td>\n      <td>9.26</td>\n      <td>793665</td>\n    </tr>\n    <tr>\n      <th>2</th>\n      <td>28977</td>\n      <td>Gintama°</td>\n      <td>[Action, Comedy, Historical, Parody, Samurai, ...</td>\n      <td>[TV]</td>\n      <td>51</td>\n      <td>9.25</td>\n      <td>114262</td>\n    </tr>\n    <tr>\n      <th>3</th>\n      <td>9253</td>\n      <td>Steins;Gate</td>\n      <td>[Sci-Fi, Thriller]</td>\n      <td>[TV]</td>\n      <td>24</td>\n      <td>9.17</td>\n      <td>673572</td>\n    </tr>\n    <tr>\n      <th>4</th>\n      <td>9969</td>\n      <td>Gintama&amp;#039;</td>\n      <td>[Action, Comedy, Historical, Parody, Samurai, ...</td>\n      <td>[TV]</td>\n      <td>51</td>\n      <td>9.16</td>\n      <td>151266</td>\n    </tr>\n  </tbody>\n</table>\n</div>"
     },
     "execution_count": 20,
     "metadata": {},
     "output_type": "execute_result"
    }
   ],
   "source": [
    "anime.head()"
   ],
   "metadata": {
    "collapsed": false,
    "ExecuteTime": {
     "end_time": "2024-05-11T13:20:26.411838Z",
     "start_time": "2024-05-11T13:20:26.406086Z"
    }
   },
   "id": "8b982504f69d9d00",
   "execution_count": 20
  },
  {
   "cell_type": "code",
   "outputs": [
    {
     "data": {
      "text/plain": "   anime_id                              name     type episodes  rating  \\\n0     32281                    Kimi no Na wa.  [Movie]        1    9.37   \n1      5114  Fullmetal Alchemist: Brotherhood     [TV]       64    9.26   \n2     28977                          Gintama°     [TV]       51    9.25   \n3      9253                       Steins;Gate     [TV]       24    9.17   \n4      9969                     Gintama&#039;     [TV]       51    9.16   \n\n   members Action Adventure   Cars Comedy  ... Shounen Ai Slice of Life  \\\n0   200630  False     False  False  False  ...      False         False   \n1   793665  False     False  False  False  ...      False         False   \n2   114262  False     False  False  False  ...      False         False   \n3   673572  False     False  False  False  ...      False         False   \n4   151266   True     False  False  False  ...      False         False   \n\n   Space Sports Super Power Supernatural Thriller Vampire   Yaoi   Yuri  \n0  False  False       False        False    False   False  False  False  \n1  False  False       False        False    False   False  False  False  \n2  False  False       False        False    False   False  False  False  \n3  False  False       False         True    False   False  False  False  \n4  False  False       False        False    False   False  False  False  \n\n[5 rows x 49 columns]",
      "text/html": "<div>\n<style scoped>\n    .dataframe tbody tr th:only-of-type {\n        vertical-align: middle;\n    }\n\n    .dataframe tbody tr th {\n        vertical-align: top;\n    }\n\n    .dataframe thead th {\n        text-align: right;\n    }\n</style>\n<table border=\"1\" class=\"dataframe\">\n  <thead>\n    <tr style=\"text-align: right;\">\n      <th></th>\n      <th>anime_id</th>\n      <th>name</th>\n      <th>type</th>\n      <th>episodes</th>\n      <th>rating</th>\n      <th>members</th>\n      <th>Action</th>\n      <th>Adventure</th>\n      <th>Cars</th>\n      <th>Comedy</th>\n      <th>...</th>\n      <th>Shounen Ai</th>\n      <th>Slice of Life</th>\n      <th>Space</th>\n      <th>Sports</th>\n      <th>Super Power</th>\n      <th>Supernatural</th>\n      <th>Thriller</th>\n      <th>Vampire</th>\n      <th>Yaoi</th>\n      <th>Yuri</th>\n    </tr>\n  </thead>\n  <tbody>\n    <tr>\n      <th>0</th>\n      <td>32281</td>\n      <td>Kimi no Na wa.</td>\n      <td>[Movie]</td>\n      <td>1</td>\n      <td>9.37</td>\n      <td>200630</td>\n      <td>False</td>\n      <td>False</td>\n      <td>False</td>\n      <td>False</td>\n      <td>...</td>\n      <td>False</td>\n      <td>False</td>\n      <td>False</td>\n      <td>False</td>\n      <td>False</td>\n      <td>False</td>\n      <td>False</td>\n      <td>False</td>\n      <td>False</td>\n      <td>False</td>\n    </tr>\n    <tr>\n      <th>1</th>\n      <td>5114</td>\n      <td>Fullmetal Alchemist: Brotherhood</td>\n      <td>[TV]</td>\n      <td>64</td>\n      <td>9.26</td>\n      <td>793665</td>\n      <td>False</td>\n      <td>False</td>\n      <td>False</td>\n      <td>False</td>\n      <td>...</td>\n      <td>False</td>\n      <td>False</td>\n      <td>False</td>\n      <td>False</td>\n      <td>False</td>\n      <td>False</td>\n      <td>False</td>\n      <td>False</td>\n      <td>False</td>\n      <td>False</td>\n    </tr>\n    <tr>\n      <th>2</th>\n      <td>28977</td>\n      <td>Gintama°</td>\n      <td>[TV]</td>\n      <td>51</td>\n      <td>9.25</td>\n      <td>114262</td>\n      <td>False</td>\n      <td>False</td>\n      <td>False</td>\n      <td>False</td>\n      <td>...</td>\n      <td>False</td>\n      <td>False</td>\n      <td>False</td>\n      <td>False</td>\n      <td>False</td>\n      <td>False</td>\n      <td>False</td>\n      <td>False</td>\n      <td>False</td>\n      <td>False</td>\n    </tr>\n    <tr>\n      <th>3</th>\n      <td>9253</td>\n      <td>Steins;Gate</td>\n      <td>[TV]</td>\n      <td>24</td>\n      <td>9.17</td>\n      <td>673572</td>\n      <td>False</td>\n      <td>False</td>\n      <td>False</td>\n      <td>False</td>\n      <td>...</td>\n      <td>False</td>\n      <td>False</td>\n      <td>False</td>\n      <td>False</td>\n      <td>False</td>\n      <td>True</td>\n      <td>False</td>\n      <td>False</td>\n      <td>False</td>\n      <td>False</td>\n    </tr>\n    <tr>\n      <th>4</th>\n      <td>9969</td>\n      <td>Gintama&amp;#039;</td>\n      <td>[TV]</td>\n      <td>51</td>\n      <td>9.16</td>\n      <td>151266</td>\n      <td>True</td>\n      <td>False</td>\n      <td>False</td>\n      <td>False</td>\n      <td>...</td>\n      <td>False</td>\n      <td>False</td>\n      <td>False</td>\n      <td>False</td>\n      <td>False</td>\n      <td>False</td>\n      <td>False</td>\n      <td>False</td>\n      <td>False</td>\n      <td>False</td>\n    </tr>\n  </tbody>\n</table>\n<p>5 rows × 49 columns</p>\n</div>"
     },
     "execution_count": 23,
     "metadata": {},
     "output_type": "execute_result"
    }
   ],
   "source": [
    "#changing the genre to a one hot vector\n",
    "genre = anime[\"genre\"].explode().unique()\n",
    "genre = pd.get_dummies(genre)\n",
    "anime = pd.concat([anime, genre], axis=1)\n",
    "anime = anime.drop(columns=[\"genre\"])\n",
    "anime.head()\n"
   ],
   "metadata": {
    "collapsed": false,
    "ExecuteTime": {
     "end_time": "2024-05-11T13:23:09.767529Z",
     "start_time": "2024-05-11T13:23:09.744007Z"
    }
   },
   "id": "4b15250fbe4fd3e6",
   "execution_count": 23
  },
  {
   "cell_type": "code",
   "outputs": [
    {
     "data": {
      "text/plain": "   anime_id                              name episodes  rating  members  \\\n0     32281                    Kimi no Na wa.        1    9.37   200630   \n1      5114  Fullmetal Alchemist: Brotherhood       64    9.26   793665   \n2     28977                          Gintama°       51    9.25   114262   \n3      9253                       Steins;Gate       24    9.17   673572   \n4      9969                     Gintama&#039;       51    9.16   151266   \n\n  Action Adventure   Cars Comedy Dementia  ... Thriller Vampire   Yaoi   Yuri  \\\n0  False     False  False  False    False  ...    False   False  False  False   \n1  False     False  False  False    False  ...    False   False  False  False   \n2  False     False  False  False    False  ...    False   False  False  False   \n3  False     False  False  False    False  ...    False   False  False  False   \n4   True     False  False  False    False  ...    False   False  False  False   \n\n   Movie  Music    ONA    OVA Special     TV  \n0   True  False  False  False   False  False  \n1  False  False  False  False   False   True  \n2  False  False  False   True   False  False  \n3  False  False  False  False    True  False  \n4  False   True  False  False   False  False  \n\n[5 rows x 54 columns]",
      "text/html": "<div>\n<style scoped>\n    .dataframe tbody tr th:only-of-type {\n        vertical-align: middle;\n    }\n\n    .dataframe tbody tr th {\n        vertical-align: top;\n    }\n\n    .dataframe thead th {\n        text-align: right;\n    }\n</style>\n<table border=\"1\" class=\"dataframe\">\n  <thead>\n    <tr style=\"text-align: right;\">\n      <th></th>\n      <th>anime_id</th>\n      <th>name</th>\n      <th>episodes</th>\n      <th>rating</th>\n      <th>members</th>\n      <th>Action</th>\n      <th>Adventure</th>\n      <th>Cars</th>\n      <th>Comedy</th>\n      <th>Dementia</th>\n      <th>...</th>\n      <th>Thriller</th>\n      <th>Vampire</th>\n      <th>Yaoi</th>\n      <th>Yuri</th>\n      <th>Movie</th>\n      <th>Music</th>\n      <th>ONA</th>\n      <th>OVA</th>\n      <th>Special</th>\n      <th>TV</th>\n    </tr>\n  </thead>\n  <tbody>\n    <tr>\n      <th>0</th>\n      <td>32281</td>\n      <td>Kimi no Na wa.</td>\n      <td>1</td>\n      <td>9.37</td>\n      <td>200630</td>\n      <td>False</td>\n      <td>False</td>\n      <td>False</td>\n      <td>False</td>\n      <td>False</td>\n      <td>...</td>\n      <td>False</td>\n      <td>False</td>\n      <td>False</td>\n      <td>False</td>\n      <td>True</td>\n      <td>False</td>\n      <td>False</td>\n      <td>False</td>\n      <td>False</td>\n      <td>False</td>\n    </tr>\n    <tr>\n      <th>1</th>\n      <td>5114</td>\n      <td>Fullmetal Alchemist: Brotherhood</td>\n      <td>64</td>\n      <td>9.26</td>\n      <td>793665</td>\n      <td>False</td>\n      <td>False</td>\n      <td>False</td>\n      <td>False</td>\n      <td>False</td>\n      <td>...</td>\n      <td>False</td>\n      <td>False</td>\n      <td>False</td>\n      <td>False</td>\n      <td>False</td>\n      <td>False</td>\n      <td>False</td>\n      <td>False</td>\n      <td>False</td>\n      <td>True</td>\n    </tr>\n    <tr>\n      <th>2</th>\n      <td>28977</td>\n      <td>Gintama°</td>\n      <td>51</td>\n      <td>9.25</td>\n      <td>114262</td>\n      <td>False</td>\n      <td>False</td>\n      <td>False</td>\n      <td>False</td>\n      <td>False</td>\n      <td>...</td>\n      <td>False</td>\n      <td>False</td>\n      <td>False</td>\n      <td>False</td>\n      <td>False</td>\n      <td>False</td>\n      <td>False</td>\n      <td>True</td>\n      <td>False</td>\n      <td>False</td>\n    </tr>\n    <tr>\n      <th>3</th>\n      <td>9253</td>\n      <td>Steins;Gate</td>\n      <td>24</td>\n      <td>9.17</td>\n      <td>673572</td>\n      <td>False</td>\n      <td>False</td>\n      <td>False</td>\n      <td>False</td>\n      <td>False</td>\n      <td>...</td>\n      <td>False</td>\n      <td>False</td>\n      <td>False</td>\n      <td>False</td>\n      <td>False</td>\n      <td>False</td>\n      <td>False</td>\n      <td>False</td>\n      <td>True</td>\n      <td>False</td>\n    </tr>\n    <tr>\n      <th>4</th>\n      <td>9969</td>\n      <td>Gintama&amp;#039;</td>\n      <td>51</td>\n      <td>9.16</td>\n      <td>151266</td>\n      <td>True</td>\n      <td>False</td>\n      <td>False</td>\n      <td>False</td>\n      <td>False</td>\n      <td>...</td>\n      <td>False</td>\n      <td>False</td>\n      <td>False</td>\n      <td>False</td>\n      <td>False</td>\n      <td>True</td>\n      <td>False</td>\n      <td>False</td>\n      <td>False</td>\n      <td>False</td>\n    </tr>\n  </tbody>\n</table>\n<p>5 rows × 54 columns</p>\n</div>"
     },
     "execution_count": 24,
     "metadata": {},
     "output_type": "execute_result"
    }
   ],
   "source": [
    "#same for type \n",
    "type = anime[\"type\"].explode().unique()\n",
    "type = pd.get_dummies(type)\n",
    "anime = pd.concat([anime, type], axis=1)\n",
    "anime = anime.drop(columns=[\"type\"])\n",
    "anime.head()"
   ],
   "metadata": {
    "collapsed": false,
    "ExecuteTime": {
     "end_time": "2024-05-11T13:23:42.204371Z",
     "start_time": "2024-05-11T13:23:42.181517Z"
    }
   },
   "id": "eafa21055781516c",
   "execution_count": 24
  },
  {
   "cell_type": "code",
   "outputs": [
    {
     "ename": "TypeError",
     "evalue": "cannot convert the series to <class 'float'>",
     "output_type": "error",
     "traceback": [
      "\u001B[0;31m---------------------------------------------------------------------------\u001B[0m",
      "\u001B[0;31mTypeError\u001B[0m                                 Traceback (most recent call last)",
      "Cell \u001B[0;32mIn[32], line 7\u001B[0m\n\u001B[1;32m      5\u001B[0m \u001B[38;5;66;03m#also for genre\u001B[39;00m\n\u001B[1;32m      6\u001B[0m \u001B[38;5;28;01mfor\u001B[39;00m i \u001B[38;5;129;01min\u001B[39;00m genre\u001B[38;5;241m.\u001B[39mcolumns:\n\u001B[0;32m----> 7\u001B[0m     anime[i] \u001B[38;5;241m=\u001B[39m anime[i]\u001B[38;5;241m.\u001B[39mapply(\u001B[38;5;28;01mlambda\u001B[39;00m x: \u001B[38;5;28mfloat\u001B[39m(x))\n\u001B[1;32m      9\u001B[0m anime\u001B[38;5;241m.\u001B[39mhead()\n",
      "File \u001B[0;32m~/anaconda3/lib/python3.11/site-packages/pandas/core/frame.py:9423\u001B[0m, in \u001B[0;36mDataFrame.apply\u001B[0;34m(self, func, axis, raw, result_type, args, **kwargs)\u001B[0m\n\u001B[1;32m   9412\u001B[0m \u001B[38;5;28;01mfrom\u001B[39;00m \u001B[38;5;21;01mpandas\u001B[39;00m\u001B[38;5;21;01m.\u001B[39;00m\u001B[38;5;21;01mcore\u001B[39;00m\u001B[38;5;21;01m.\u001B[39;00m\u001B[38;5;21;01mapply\u001B[39;00m \u001B[38;5;28;01mimport\u001B[39;00m frame_apply\n\u001B[1;32m   9414\u001B[0m op \u001B[38;5;241m=\u001B[39m frame_apply(\n\u001B[1;32m   9415\u001B[0m     \u001B[38;5;28mself\u001B[39m,\n\u001B[1;32m   9416\u001B[0m     func\u001B[38;5;241m=\u001B[39mfunc,\n\u001B[0;32m   (...)\u001B[0m\n\u001B[1;32m   9421\u001B[0m     kwargs\u001B[38;5;241m=\u001B[39mkwargs,\n\u001B[1;32m   9422\u001B[0m )\n\u001B[0;32m-> 9423\u001B[0m \u001B[38;5;28;01mreturn\u001B[39;00m op\u001B[38;5;241m.\u001B[39mapply()\u001B[38;5;241m.\u001B[39m__finalize__(\u001B[38;5;28mself\u001B[39m, method\u001B[38;5;241m=\u001B[39m\u001B[38;5;124m\"\u001B[39m\u001B[38;5;124mapply\u001B[39m\u001B[38;5;124m\"\u001B[39m)\n",
      "File \u001B[0;32m~/anaconda3/lib/python3.11/site-packages/pandas/core/apply.py:678\u001B[0m, in \u001B[0;36mFrameApply.apply\u001B[0;34m(self)\u001B[0m\n\u001B[1;32m    675\u001B[0m \u001B[38;5;28;01melif\u001B[39;00m \u001B[38;5;28mself\u001B[39m\u001B[38;5;241m.\u001B[39mraw:\n\u001B[1;32m    676\u001B[0m     \u001B[38;5;28;01mreturn\u001B[39;00m \u001B[38;5;28mself\u001B[39m\u001B[38;5;241m.\u001B[39mapply_raw()\n\u001B[0;32m--> 678\u001B[0m \u001B[38;5;28;01mreturn\u001B[39;00m \u001B[38;5;28mself\u001B[39m\u001B[38;5;241m.\u001B[39mapply_standard()\n",
      "File \u001B[0;32m~/anaconda3/lib/python3.11/site-packages/pandas/core/apply.py:798\u001B[0m, in \u001B[0;36mFrameApply.apply_standard\u001B[0;34m(self)\u001B[0m\n\u001B[1;32m    797\u001B[0m \u001B[38;5;28;01mdef\u001B[39;00m \u001B[38;5;21mapply_standard\u001B[39m(\u001B[38;5;28mself\u001B[39m):\n\u001B[0;32m--> 798\u001B[0m     results, res_index \u001B[38;5;241m=\u001B[39m \u001B[38;5;28mself\u001B[39m\u001B[38;5;241m.\u001B[39mapply_series_generator()\n\u001B[1;32m    800\u001B[0m     \u001B[38;5;66;03m# wrap results\u001B[39;00m\n\u001B[1;32m    801\u001B[0m     \u001B[38;5;28;01mreturn\u001B[39;00m \u001B[38;5;28mself\u001B[39m\u001B[38;5;241m.\u001B[39mwrap_results(results, res_index)\n",
      "File \u001B[0;32m~/anaconda3/lib/python3.11/site-packages/pandas/core/apply.py:814\u001B[0m, in \u001B[0;36mFrameApply.apply_series_generator\u001B[0;34m(self)\u001B[0m\n\u001B[1;32m    811\u001B[0m \u001B[38;5;28;01mwith\u001B[39;00m option_context(\u001B[38;5;124m\"\u001B[39m\u001B[38;5;124mmode.chained_assignment\u001B[39m\u001B[38;5;124m\"\u001B[39m, \u001B[38;5;28;01mNone\u001B[39;00m):\n\u001B[1;32m    812\u001B[0m     \u001B[38;5;28;01mfor\u001B[39;00m i, v \u001B[38;5;129;01min\u001B[39;00m \u001B[38;5;28menumerate\u001B[39m(series_gen):\n\u001B[1;32m    813\u001B[0m         \u001B[38;5;66;03m# ignore SettingWithCopy here in case the user mutates\u001B[39;00m\n\u001B[0;32m--> 814\u001B[0m         results[i] \u001B[38;5;241m=\u001B[39m \u001B[38;5;28mself\u001B[39m\u001B[38;5;241m.\u001B[39mf(v)\n\u001B[1;32m    815\u001B[0m         \u001B[38;5;28;01mif\u001B[39;00m \u001B[38;5;28misinstance\u001B[39m(results[i], ABCSeries):\n\u001B[1;32m    816\u001B[0m             \u001B[38;5;66;03m# If we have a view on v, we need to make a copy because\u001B[39;00m\n\u001B[1;32m    817\u001B[0m             \u001B[38;5;66;03m#  series_generator will swap out the underlying data\u001B[39;00m\n\u001B[1;32m    818\u001B[0m             results[i] \u001B[38;5;241m=\u001B[39m results[i]\u001B[38;5;241m.\u001B[39mcopy(deep\u001B[38;5;241m=\u001B[39m\u001B[38;5;28;01mFalse\u001B[39;00m)\n",
      "Cell \u001B[0;32mIn[32], line 7\u001B[0m, in \u001B[0;36m<lambda>\u001B[0;34m(x)\u001B[0m\n\u001B[1;32m      5\u001B[0m \u001B[38;5;66;03m#also for genre\u001B[39;00m\n\u001B[1;32m      6\u001B[0m \u001B[38;5;28;01mfor\u001B[39;00m i \u001B[38;5;129;01min\u001B[39;00m genre\u001B[38;5;241m.\u001B[39mcolumns:\n\u001B[0;32m----> 7\u001B[0m     anime[i] \u001B[38;5;241m=\u001B[39m anime[i]\u001B[38;5;241m.\u001B[39mapply(\u001B[38;5;28;01mlambda\u001B[39;00m x: \u001B[38;5;28mfloat\u001B[39m(x))\n\u001B[1;32m      9\u001B[0m anime\u001B[38;5;241m.\u001B[39mhead()\n",
      "File \u001B[0;32m~/anaconda3/lib/python3.11/site-packages/pandas/core/series.py:230\u001B[0m, in \u001B[0;36m_coerce_method.<locals>.wrapper\u001B[0;34m(self)\u001B[0m\n\u001B[1;32m    222\u001B[0m     warnings\u001B[38;5;241m.\u001B[39mwarn(\n\u001B[1;32m    223\u001B[0m         \u001B[38;5;124mf\u001B[39m\u001B[38;5;124m\"\u001B[39m\u001B[38;5;124mCalling \u001B[39m\u001B[38;5;132;01m{\u001B[39;00mconverter\u001B[38;5;241m.\u001B[39m\u001B[38;5;18m__name__\u001B[39m\u001B[38;5;132;01m}\u001B[39;00m\u001B[38;5;124m on a single element Series is \u001B[39m\u001B[38;5;124m\"\u001B[39m\n\u001B[1;32m    224\u001B[0m         \u001B[38;5;124m\"\u001B[39m\u001B[38;5;124mdeprecated and will raise a TypeError in the future. \u001B[39m\u001B[38;5;124m\"\u001B[39m\n\u001B[0;32m   (...)\u001B[0m\n\u001B[1;32m    227\u001B[0m         stacklevel\u001B[38;5;241m=\u001B[39mfind_stack_level(),\n\u001B[1;32m    228\u001B[0m     )\n\u001B[1;32m    229\u001B[0m     \u001B[38;5;28;01mreturn\u001B[39;00m converter(\u001B[38;5;28mself\u001B[39m\u001B[38;5;241m.\u001B[39miloc[\u001B[38;5;241m0\u001B[39m])\n\u001B[0;32m--> 230\u001B[0m \u001B[38;5;28;01mraise\u001B[39;00m \u001B[38;5;167;01mTypeError\u001B[39;00m(\u001B[38;5;124mf\u001B[39m\u001B[38;5;124m\"\u001B[39m\u001B[38;5;124mcannot convert the series to \u001B[39m\u001B[38;5;132;01m{\u001B[39;00mconverter\u001B[38;5;132;01m}\u001B[39;00m\u001B[38;5;124m\"\u001B[39m)\n",
      "\u001B[0;31mTypeError\u001B[0m: cannot convert the series to <class 'float'>"
     ]
    }
   ],
   "source": [
    "#preparing the data for the model changing bollean to numbers \n",
    "anime[\"episodes\"] = anime[\"episodes\"].apply(lambda x: float(x) if x != \"Unknown\" else 0)\n",
    "anime[\"rating\"] = anime[\"rating\"].apply(lambda x: float(x) if x != \"Unknown\" else 0)\n",
    "anime[\"members\"] = anime[\"members\"].apply(lambda x: float(x))\n",
    "#also for genre\n",
    "\n"
   ],
   "metadata": {
    "collapsed": false,
    "ExecuteTime": {
     "end_time": "2024-05-11T13:28:43.192786Z",
     "start_time": "2024-05-11T13:28:43.122761Z"
    }
   },
   "id": "630e5dda6ef9108c",
   "execution_count": 32
  },
  {
   "cell_type": "code",
   "outputs": [],
   "source": [
    "#defining a function that will do all the preprocessing\n",
    "def preprocess_data(anime, rating):\n",
    "    anime = anime.dropna()\n",
    "    anime = anime.reset_index(drop=True)\n",
    "    anime[\"genre\"] = anime[\"genre\"].apply(lambda x: x.split(\", \"))\n",
    "    anime[\"type\"] = anime[\"type\"].apply(lambda x: [x])\n",
    "    genre = anime[\"genre\"].explode().unique()\n",
    "    genre = pd.get_dummies(genre)\n",
    "    anime = pd.concat([anime, genre], axis=1)\n",
    "    anime = anime.drop(columns=[\"genre\"])\n",
    "    type = anime[\"type\"].explode().unique()\n",
    "    type = pd.get_dummies(type)\n",
    "    anime = pd.concat([anime, type], axis=1)\n",
    "    anime = anime.drop(columns=[\"type\"])\n",
    "    anime[\"episodes\"] = anime[\"episodes\"].apply(lambda x: float(x) if x != \"Unknown\" else 0)\n",
    "    anime[\"rating\"] = anime[\"rating\"].apply(lambda x: float(x) if x != \"Unknown\" else 0)\n",
    "    anime[\"members\"] = anime[\"members\"].apply(lambda x: float(x))\n",
    "    rating = rating[rating.rating != -1]\n",
    "    return anime, rating"
   ],
   "metadata": {
    "collapsed": false,
    "ExecuteTime": {
     "end_time": "2024-05-11T13:30:38.684218Z",
     "start_time": "2024-05-11T13:30:38.679170Z"
    }
   },
   "id": "482f90aff023eda2",
   "execution_count": 34
  },
  {
   "cell_type": "code",
   "outputs": [],
   "source": [
    "anime1= pd.read_csv(\"anime.csv\")\n",
    "rating1 = pd.read_csv(\"rating.csv\")\n",
    "anime1, rating1 = preprocess_data(anime1, rating1)"
   ],
   "metadata": {
    "collapsed": false,
    "ExecuteTime": {
     "end_time": "2024-05-11T13:30:42.413262Z",
     "start_time": "2024-05-11T13:30:41.484334Z"
    }
   },
   "id": "1d74aa200b627a50",
   "execution_count": 35
  },
  {
   "cell_type": "code",
   "outputs": [
    {
     "data": {
      "text/plain": "     user_id  anime_id  rating\n47         1      8074      10\n81         1     11617      10\n83         1     11757      10\n101        1     15451      10\n153        2     11771      10",
      "text/html": "<div>\n<style scoped>\n    .dataframe tbody tr th:only-of-type {\n        vertical-align: middle;\n    }\n\n    .dataframe tbody tr th {\n        vertical-align: top;\n    }\n\n    .dataframe thead th {\n        text-align: right;\n    }\n</style>\n<table border=\"1\" class=\"dataframe\">\n  <thead>\n    <tr style=\"text-align: right;\">\n      <th></th>\n      <th>user_id</th>\n      <th>anime_id</th>\n      <th>rating</th>\n    </tr>\n  </thead>\n  <tbody>\n    <tr>\n      <th>47</th>\n      <td>1</td>\n      <td>8074</td>\n      <td>10</td>\n    </tr>\n    <tr>\n      <th>81</th>\n      <td>1</td>\n      <td>11617</td>\n      <td>10</td>\n    </tr>\n    <tr>\n      <th>83</th>\n      <td>1</td>\n      <td>11757</td>\n      <td>10</td>\n    </tr>\n    <tr>\n      <th>101</th>\n      <td>1</td>\n      <td>15451</td>\n      <td>10</td>\n    </tr>\n    <tr>\n      <th>153</th>\n      <td>2</td>\n      <td>11771</td>\n      <td>10</td>\n    </tr>\n  </tbody>\n</table>\n</div>"
     },
     "execution_count": 37,
     "metadata": {},
     "output_type": "execute_result"
    }
   ],
   "source": [
    "rating1.head()"
   ],
   "metadata": {
    "collapsed": false,
    "ExecuteTime": {
     "end_time": "2024-05-11T13:41:20.344002Z",
     "start_time": "2024-05-11T13:41:20.337691Z"
    }
   },
   "id": "27f6803258c97914",
   "execution_count": 37
  },
  {
   "cell_type": "code",
   "outputs": [],
   "source": [
    "#splittin the data into train and test\n",
    "data = rating1.sample(frac=1)"
   ],
   "metadata": {
    "collapsed": false,
    "ExecuteTime": {
     "end_time": "2024-05-11T13:53:40.230083Z",
     "start_time": "2024-05-11T13:53:39.946454Z"
    }
   },
   "id": "d9a70fd6e0639ddc",
   "execution_count": 41
  },
  {
   "cell_type": "code",
   "outputs": [],
   "source": [
    "train_data, test_data = data[:int(0.8*len(data))], data[int(0.8*len(data)):]"
   ],
   "metadata": {
    "collapsed": false,
    "ExecuteTime": {
     "end_time": "2024-05-11T13:54:32.428153Z",
     "start_time": "2024-05-11T13:54:32.425173Z"
    }
   },
   "id": "4b4b5d0fb4570028",
   "execution_count": 44
  },
  {
   "cell_type": "code",
   "outputs": [],
   "source": [
    "unique_movie_titles = np.unique(list(anime1[\"anime_id\"]))\n",
    "unique_user_ids = np.unique(list(rating1[\"user_id\"]))\n",
    "unique_movie_titles = [str(i) for i in unique_movie_titles]\n",
    "unique_user_ids = [str(i) for i in unique_user_ids]\n",
    "\n"
   ],
   "metadata": {
    "collapsed": false,
    "ExecuteTime": {
     "end_time": "2024-05-11T14:17:13.336771Z",
     "start_time": "2024-05-11T14:17:12.839764Z"
    }
   },
   "id": "16b6c0f8e7973613",
   "execution_count": 66
  },
  {
   "cell_type": "code",
   "outputs": [
    {
     "data": {
      "text/plain": "['1',\n '5',\n '6',\n '7',\n '8',\n '15',\n '16',\n '17',\n '18',\n '19',\n '20',\n '21',\n '22',\n '23',\n '24',\n '25',\n '26',\n '27',\n '28',\n '29',\n '30',\n '31',\n '32',\n '33',\n '43',\n '44',\n '45',\n '46',\n '47',\n '48',\n '49',\n '50',\n '51',\n '52',\n '53',\n '54',\n '55',\n '56',\n '57',\n '58',\n '59',\n '60',\n '61',\n '62',\n '63',\n '64',\n '65',\n '66',\n '67',\n '68',\n '69',\n '71',\n '72',\n '73',\n '74',\n '75',\n '76',\n '77',\n '79',\n '80',\n '81',\n '82',\n '83',\n '84',\n '85',\n '86',\n '87',\n '88',\n '89',\n '90',\n '91',\n '92',\n '93',\n '94',\n '95',\n '96',\n '97',\n '98',\n '99',\n '100',\n '101',\n '102',\n '103',\n '104',\n '105',\n '106',\n '107',\n '108',\n '109',\n '110',\n '111',\n '112',\n '113',\n '114',\n '115',\n '116',\n '117',\n '118',\n '119',\n '120',\n '121',\n '122',\n '123',\n '124',\n '125',\n '126',\n '127',\n '128',\n '129',\n '130',\n '131',\n '132',\n '133',\n '134',\n '135',\n '136',\n '137',\n '138',\n '139',\n '141',\n '142',\n '143',\n '144',\n '145',\n '146',\n '147',\n '148',\n '149',\n '150',\n '151',\n '152',\n '153',\n '154',\n '155',\n '156',\n '157',\n '158',\n '159',\n '160',\n '161',\n '162',\n '163',\n '164',\n '165',\n '166',\n '167',\n '168',\n '169',\n '170',\n '171',\n '173',\n '174',\n '175',\n '176',\n '177',\n '178',\n '179',\n '180',\n '181',\n '182',\n '183',\n '184',\n '185',\n '186',\n '187',\n '188',\n '189',\n '190',\n '191',\n '192',\n '193',\n '194',\n '195',\n '196',\n '197',\n '198',\n '199',\n '200',\n '201',\n '202',\n '203',\n '204',\n '205',\n '206',\n '207',\n '208',\n '209',\n '210',\n '211',\n '212',\n '213',\n '214',\n '215',\n '216',\n '217',\n '218',\n '219',\n '220',\n '221',\n '222',\n '223',\n '225',\n '226',\n '227',\n '228',\n '229',\n '230',\n '231',\n '232',\n '233',\n '234',\n '235',\n '236',\n '237',\n '238',\n '239',\n '240',\n '241',\n '242',\n '243',\n '244',\n '245',\n '246',\n '247',\n '248',\n '249',\n '250',\n '251',\n '252',\n '253',\n '254',\n '255',\n '256',\n '257',\n '258',\n '259',\n '260',\n '261',\n '262',\n '263',\n '264',\n '265',\n '266',\n '267',\n '268',\n '269',\n '270',\n '271',\n '272',\n '273',\n '274',\n '275',\n '276',\n '277',\n '278',\n '279',\n '280',\n '281',\n '282',\n '283',\n '284',\n '285',\n '286',\n '287',\n '288',\n '289',\n '290',\n '291',\n '292',\n '293',\n '294',\n '295',\n '296',\n '297',\n '298',\n '299',\n '300',\n '301',\n '302',\n '303',\n '304',\n '305',\n '306',\n '307',\n '308',\n '309',\n '310',\n '311',\n '312',\n '313',\n '314',\n '315',\n '316',\n '317',\n '318',\n '319',\n '320',\n '321',\n '322',\n '323',\n '324',\n '325',\n '326',\n '327',\n '328',\n '329',\n '330',\n '331',\n '332',\n '333',\n '334',\n '335',\n '336',\n '337',\n '338',\n '339',\n '340',\n '341',\n '342',\n '343',\n '344',\n '345',\n '346',\n '347',\n '348',\n '349',\n '350',\n '351',\n '352',\n '353',\n '354',\n '355',\n '356',\n '357',\n '358',\n '359',\n '360',\n '361',\n '362',\n '363',\n '364',\n '365',\n '366',\n '367',\n '368',\n '369',\n '370',\n '371',\n '372',\n '373',\n '374',\n '375',\n '376',\n '377',\n '378',\n '379',\n '380',\n '381',\n '382',\n '383',\n '384',\n '385',\n '386',\n '387',\n '388',\n '389',\n '390',\n '391',\n '392',\n '393',\n '394',\n '395',\n '396',\n '397',\n '398',\n '399',\n '400',\n '401',\n '402',\n '403',\n '404',\n '405',\n '406',\n '407',\n '408',\n '411',\n '412',\n '413',\n '415',\n '416',\n '417',\n '418',\n '419',\n '420',\n '421',\n '422',\n '423',\n '424',\n '425',\n '426',\n '427',\n '428',\n '429',\n '430',\n '431',\n '432',\n '433',\n '434',\n '435',\n '437',\n '438',\n '439',\n '440',\n '441',\n '442',\n '443',\n '444',\n '445',\n '446',\n '447',\n '448',\n '449',\n '450',\n '451',\n '452',\n '454',\n '455',\n '456',\n '457',\n '458',\n '459',\n '460',\n '461',\n '462',\n '463',\n '464',\n '465',\n '466',\n '467',\n '468',\n '469',\n '470',\n '471',\n '472',\n '473',\n '474',\n '475',\n '476',\n '477',\n '478',\n '479',\n '481',\n '482',\n '483',\n '484',\n '485',\n '486',\n '487',\n '488',\n '489',\n '490',\n '492',\n '493',\n '495',\n '496',\n '497',\n '498',\n '499',\n '501',\n '502',\n '503',\n '504',\n '505',\n '506',\n '507',\n '508',\n '509',\n '510',\n '511',\n '512',\n '513',\n '514',\n '515',\n '516',\n '517',\n '518',\n '519',\n '520',\n '521',\n '522',\n '523',\n '524',\n '525',\n '526',\n '527',\n '528',\n '529',\n '530',\n '531',\n '532',\n '533',\n '534',\n '535',\n '536',\n '537',\n '538',\n '539',\n '540',\n '541',\n '543',\n '544',\n '545',\n '546',\n '547',\n '548',\n '550',\n '551',\n '552',\n '553',\n '554',\n '555',\n '556',\n '557',\n '558',\n '559',\n '560',\n '561',\n '562',\n '563',\n '564',\n '565',\n '566',\n '567',\n '568',\n '569',\n '570',\n '571',\n '572',\n '573',\n '574',\n '576',\n '577',\n '578',\n '579',\n '580',\n '581',\n '582',\n '584',\n '585',\n '586',\n '587',\n '588',\n '589',\n '590',\n '591',\n '592',\n '593',\n '594',\n '595',\n '596',\n '597',\n '598',\n '599',\n '600',\n '601',\n '602',\n '603',\n '604',\n '605',\n '606',\n '607',\n '608',\n '609',\n '610',\n '611',\n '612',\n '613',\n '614',\n '615',\n '616',\n '617',\n '618',\n '619',\n '620',\n '621',\n '622',\n '623',\n '624',\n '625',\n '626',\n '627',\n '629',\n '630',\n '631',\n '632',\n '633',\n '634',\n '635',\n '636',\n '637',\n '641',\n '642',\n '644',\n '645',\n '646',\n '647',\n '648',\n '649',\n '650',\n '651',\n '652',\n '653',\n '654',\n '655',\n '656',\n '658',\n '659',\n '660',\n '661',\n '664',\n '665',\n '666',\n '667',\n '668',\n '669',\n '670',\n '671',\n '673',\n '675',\n '676',\n '677',\n '678',\n '679',\n '681',\n '682',\n '683',\n '684',\n '685',\n '686',\n '687',\n '688',\n '689',\n '690',\n '691',\n '692',\n '693',\n '694',\n '695',\n '696',\n '704',\n '705',\n '706',\n '707',\n '708',\n '709',\n '710',\n '711',\n '712',\n '713',\n '714',\n '715',\n '718',\n '719',\n '721',\n '722',\n '723',\n '724',\n '725',\n '727',\n '729',\n '730',\n '731',\n '732',\n '733',\n '734',\n '736',\n '738',\n '740',\n '741',\n '743',\n '744',\n '746',\n '747',\n '748',\n '749',\n '750',\n '751',\n '752',\n '753',\n '754',\n '755',\n '756',\n '757',\n '758',\n '759',\n '760',\n '761',\n '762',\n '763',\n '764',\n '765',\n '766',\n '767',\n '769',\n '770',\n '771',\n '773',\n '776',\n '777',\n '779',\n '780',\n '781',\n '782',\n '783',\n '785',\n '786',\n '788',\n '789',\n '790',\n '791',\n '792',\n '793',\n '795',\n '796',\n '797',\n '798',\n '799',\n '800',\n '801',\n '807',\n '808',\n '810',\n '811',\n '812',\n '813',\n '814',\n '815',\n '816',\n '817',\n '818',\n '819',\n '820',\n '821',\n '822',\n '823',\n '824',\n '825',\n '827',\n '828',\n '830',\n '831',\n '832',\n '833',\n '834',\n '835',\n '836',\n '837',\n '838',\n '839',\n '840',\n '841',\n '842',\n '844',\n '845',\n '846',\n '848',\n '849',\n '850',\n '851',\n '852',\n '853',\n '854',\n '855',\n '856',\n '857',\n '858',\n '859',\n '860',\n '861',\n '863',\n '864',\n '865',\n '866',\n '867',\n '868',\n '869',\n '870',\n '872',\n '873',\n '874',\n '875',\n '876',\n '877',\n '878',\n '879',\n '880',\n '881',\n '882',\n '883',\n '884',\n '885',\n '886',\n '887',\n '888',\n '889',\n '890',\n '891',\n '892',\n '893',\n '894',\n '895',\n '896',\n '897',\n '898',\n '899',\n '900',\n '901',\n '902',\n '903',\n '904',\n '905',\n '906',\n '907',\n '908',\n '909',\n '910',\n '911',\n '912',\n '913',\n '914',\n '915',\n '916',\n '917',\n '918',\n '919',\n '920',\n '921',\n '924',\n '925',\n '926',\n '927',\n '928',\n '929',\n '930',\n '932',\n '933',\n '934',\n '935',\n '936',\n '937',\n '938',\n '940',\n '941',\n '942',\n '943',\n '944',\n '949',\n '950',\n '951',\n '952',\n '953',\n '956',\n '957',\n '958',\n '959',\n '960',\n '961',\n '962',\n '963',\n '964',\n '965',\n '966',\n '967',\n '968',\n '969',\n '970',\n '971',\n '972',\n '973',\n '974',\n '975',\n '976',\n '977',\n '978',\n '979',\n '980',\n '981',\n '982',\n '983',\n '984',\n '985',\n '986',\n '987',\n '988',\n '989',\n '990',\n '991',\n '992',\n '993',\n '994',\n '995',\n '996',\n '997',\n '998',\n '999',\n '1000',\n '1001',\n '1002',\n '1003',\n '1004',\n '1005',\n '1006',\n '1007',\n '1008',\n '1009',\n '1010',\n '1011',\n '1012',\n '1013',\n '1014',\n '1015',\n '1016',\n '1017',\n '1018',\n '1019',\n '1020',\n '1021',\n '1022',\n '1023',\n '1024',\n '1025',\n '1026',\n '1027',\n '1028',\n '1029',\n '1030',\n '1031',\n '1032',\n '1033',\n '1034',\n '1035',\n '1036',\n '1037',\n '1038',\n '1039',\n '1040',\n '1041',\n '1042',\n '1043',\n '1044',\n '1045',\n '1046',\n '1047',\n '1048',\n '1049',\n '1050',\n '1051',\n '1052',\n '1053',\n '1055',\n '1056',\n '1057',\n '1058',\n '1059',\n '1060',\n '1062',\n '1064',\n '1065',\n '1066',\n '1067',\n '1068',\n '1069',\n '1070',\n '1071',\n '1072',\n '1074',\n '1075',\n '1076',\n '1078',\n '1079',\n '1080',\n '1081',\n '1082',\n '1083',\n '1084',\n '1085',\n '1086',\n '1087',\n '1088',\n '1089',\n '1090',\n '1091',\n '1092',\n '1093',\n '1094',\n '1095',\n '1096',\n '1097',\n '1098',\n '1099',\n ...]"
     },
     "execution_count": 65,
     "metadata": {},
     "output_type": "execute_result"
    }
   ],
   "source": [
    "unique_movie_titles"
   ],
   "metadata": {
    "collapsed": false,
    "ExecuteTime": {
     "end_time": "2024-05-11T14:17:05.172782Z",
     "start_time": "2024-05-11T14:17:05.167658Z"
    }
   },
   "id": "f73f30009f92b23b",
   "execution_count": 65
  },
  {
   "cell_type": "code",
   "outputs": [],
   "source": [
    "import os\n",
    "import pprint\n",
    "import tempfile\n",
    "\n",
    "from typing import Dict, Text\n",
    "\n",
    "import numpy as np\n",
    "import tensorflow as tf\n",
    "import tensorflow_datasets as tfd\n",
    "class RankingModel(tf.keras.Model):\n",
    "\n",
    "  def __init__(self):\n",
    "    super().__init__()\n",
    "    embedding_dimension = 32\n",
    "\n",
    "    # Compute embeddings for users.\n",
    "    self.user_embeddings = tf.keras.Sequential([\n",
    "      tf.keras.layers.StringLookup(\n",
    "        vocabulary=unique_user_ids, mask_token=None),\n",
    "      tf.keras.layers.Embedding(len(unique_user_ids) + 1, embedding_dimension)\n",
    "    ])\n",
    "\n",
    "    # Compute embeddings for movies.\n",
    "    self.movie_embeddings = tf.keras.Sequential([\n",
    "      tf.keras.layers.StringLookup(\n",
    "        vocabulary=unique_movie_titles, mask_token=None),\n",
    "      tf.keras.layers.Embedding(len(unique_movie_titles) + 1, embedding_dimension)\n",
    "    ])\n",
    "\n",
    "    # Compute predictions.\n",
    "    self.ratings = tf.keras.Sequential([\n",
    "      # Learn multiple dense layers.\n",
    "      tf.keras.layers.Dense(256, activation=\"relu\"),\n",
    "      tf.keras.layers.Dense(64, activation=\"relu\"),\n",
    "      # Make rating predictions in the final layer.\n",
    "      tf.keras.layers.Dense(1)\n",
    "  ])\n",
    "\n",
    "  def call(self, inputs):\n",
    "\n",
    "    user_id, movie_title = inputs\n",
    "    user_id =np.array(user_id)\n",
    "    movie_title = np.array(movie_title)\n",
    "    user_embedding = self.user_embeddings(user_id)\n",
    "    movie_embedding = self.movie_embeddings(movie_title)\n",
    "\n",
    "    \n",
    "    return self.ratings(tf.concat([user_embedding, movie_embedding], axis=1))"
   ],
   "metadata": {
    "collapsed": false,
    "ExecuteTime": {
     "end_time": "2024-05-11T14:24:54.858192Z",
     "start_time": "2024-05-11T14:24:54.853272Z"
    }
   },
   "id": "ffe2809c6e8bbe50",
   "execution_count": 84
  },
  {
   "cell_type": "code",
   "outputs": [
    {
     "data": {
      "text/plain": "<tf.Tensor 'sequential_38_1/dense_38_1/Add:0' shape=(1, 1) dtype=float32>"
     },
     "execution_count": 85,
     "metadata": {},
     "output_type": "execute_result"
    }
   ],
   "source": [
    "model = RankingModel()\n",
    "\n",
    "model.call(([\"1\"], [\"1\"]))"
   ],
   "metadata": {
    "collapsed": false,
    "ExecuteTime": {
     "end_time": "2024-05-11T14:24:56.477784Z",
     "start_time": "2024-05-11T14:24:56.226836Z"
    }
   },
   "id": "96f5c09d06dab6fb",
   "execution_count": 85
  },
  {
   "cell_type": "code",
   "outputs": [],
   "source": [
    "import tensorflow_recommenders as tfrs\n",
    "\n",
    "task = tfrs.tasks.Ranking(\n",
    "  loss = tf.keras.losses.MeanSquaredError(),\n",
    "  metrics=[tf.keras.metrics.RootMeanSquaredError()]\n",
    ")"
   ],
   "metadata": {
    "collapsed": false,
    "ExecuteTime": {
     "end_time": "2024-05-11T14:26:17.344048Z",
     "start_time": "2024-05-11T14:26:17.317411Z"
    }
   },
   "id": "79e0c9c7d7d2dc6a",
   "execution_count": 87
  },
  {
   "cell_type": "code",
   "outputs": [],
   "source": [
    "class MovielensModel(tfrs.models.Model):\n",
    "\n",
    "  def __init__(self):\n",
    "    super().__init__()\n",
    "    self.ranking_model: tf.keras.Model = RankingModel()\n",
    "    self.task: tf.keras.layers.Layer = tfrs.tasks.Ranking(\n",
    "      loss = tf.keras.losses.MeanSquaredError(),\n",
    "      metrics=[tf.keras.metrics.RootMeanSquaredError()]\n",
    "    )\n",
    "\n",
    "  def call(self, features: Dict[str, tf.Tensor]) -> tf.Tensor:\n",
    "    return self.ranking_model(\n",
    "        (features[\"user_id\"], features[\"anime_id\"]))\n",
    "\n",
    "  def compute_loss(self, features: Dict[Text, tf.Tensor], training=False) -> tf.Tensor:\n",
    "    labels = features.pop(\"rating\")\n",
    "\n",
    "    rating_predictions = self(features)\n",
    "\n",
    "    # The task computes the loss and the metrics.\n",
    "    return self.task(labels=labels, predictions=rating_predictions)"
   ],
   "metadata": {
    "collapsed": false,
    "ExecuteTime": {
     "end_time": "2024-05-11T14:48:41.652931Z",
     "start_time": "2024-05-11T14:48:41.648076Z"
    }
   },
   "id": "f7fa13bffebe8c9e",
   "execution_count": 96
  },
  {
   "cell_type": "code",
   "outputs": [],
   "source": [
    "model = MovielensModel()\n",
    "model.compile(optimizer=tf.keras.optimizers.Adagrad(learning_rate=0.1))"
   ],
   "metadata": {
    "collapsed": false,
    "ExecuteTime": {
     "end_time": "2024-05-11T14:48:43.928224Z",
     "start_time": "2024-05-11T14:48:43.699756Z"
    }
   },
   "id": "b9769a24bae6cf97",
   "execution_count": 97
  },
  {
   "cell_type": "code",
   "outputs": [
    {
     "ename": "AttributeError",
     "evalue": "'DataFrame' object has no attribute 'batch'",
     "output_type": "error",
     "traceback": [
      "\u001B[0;31m---------------------------------------------------------------------------\u001B[0m",
      "\u001B[0;31mAttributeError\u001B[0m                            Traceback (most recent call last)",
      "\u001B[0;32m/var/folders/8t/y7gf3thx6vn8wkdvj6cdy3j40000gn/T/ipykernel_36848/2565617857.py\u001B[0m in \u001B[0;36m?\u001B[0;34m()\u001B[0m\n\u001B[0;32m----> 1\u001B[0;31m \u001B[0mcached_train\u001B[0m \u001B[0;34m=\u001B[0m \u001B[0mtrain_data\u001B[0m\u001B[0;34m.\u001B[0m\u001B[0mbatch\u001B[0m\u001B[0;34m(\u001B[0m\u001B[0;36m8192\u001B[0m\u001B[0;34m)\u001B[0m\u001B[0;34m.\u001B[0m\u001B[0mcache\u001B[0m\u001B[0;34m(\u001B[0m\u001B[0;34m)\u001B[0m\u001B[0;34m\u001B[0m\u001B[0;34m\u001B[0m\u001B[0m\n\u001B[0m\u001B[1;32m      2\u001B[0m \u001B[0mcached_test\u001B[0m \u001B[0;34m=\u001B[0m \u001B[0mtest_data\u001B[0m\u001B[0;34m.\u001B[0m\u001B[0mbatch\u001B[0m\u001B[0;34m(\u001B[0m\u001B[0;36m4096\u001B[0m\u001B[0;34m)\u001B[0m\u001B[0;34m.\u001B[0m\u001B[0mcache\u001B[0m\u001B[0;34m(\u001B[0m\u001B[0;34m)\u001B[0m\u001B[0;34m\u001B[0m\u001B[0;34m\u001B[0m\u001B[0m\n",
      "\u001B[0;32m~/anaconda3/lib/python3.11/site-packages/pandas/core/generic.py\u001B[0m in \u001B[0;36m?\u001B[0;34m(self, name)\u001B[0m\n\u001B[1;32m   5985\u001B[0m             \u001B[0;32mand\u001B[0m \u001B[0mname\u001B[0m \u001B[0;32mnot\u001B[0m \u001B[0;32min\u001B[0m \u001B[0mself\u001B[0m\u001B[0;34m.\u001B[0m\u001B[0m_accessors\u001B[0m\u001B[0;34m\u001B[0m\u001B[0;34m\u001B[0m\u001B[0m\n\u001B[1;32m   5986\u001B[0m             \u001B[0;32mand\u001B[0m \u001B[0mself\u001B[0m\u001B[0;34m.\u001B[0m\u001B[0m_info_axis\u001B[0m\u001B[0;34m.\u001B[0m\u001B[0m_can_hold_identifiers_and_holds_name\u001B[0m\u001B[0;34m(\u001B[0m\u001B[0mname\u001B[0m\u001B[0;34m)\u001B[0m\u001B[0;34m\u001B[0m\u001B[0;34m\u001B[0m\u001B[0m\n\u001B[1;32m   5987\u001B[0m         ):\n\u001B[1;32m   5988\u001B[0m             \u001B[0;32mreturn\u001B[0m \u001B[0mself\u001B[0m\u001B[0;34m[\u001B[0m\u001B[0mname\u001B[0m\u001B[0;34m]\u001B[0m\u001B[0;34m\u001B[0m\u001B[0;34m\u001B[0m\u001B[0m\n\u001B[0;32m-> 5989\u001B[0;31m         \u001B[0;32mreturn\u001B[0m \u001B[0mobject\u001B[0m\u001B[0;34m.\u001B[0m\u001B[0m__getattribute__\u001B[0m\u001B[0;34m(\u001B[0m\u001B[0mself\u001B[0m\u001B[0;34m,\u001B[0m \u001B[0mname\u001B[0m\u001B[0;34m)\u001B[0m\u001B[0;34m\u001B[0m\u001B[0;34m\u001B[0m\u001B[0m\n\u001B[0m",
      "\u001B[0;31mAttributeError\u001B[0m: 'DataFrame' object has no attribute 'batch'"
     ]
    }
   ],
   "source": [
    "cached_train = train_data.batch(8192).cache()\n",
    "cached_test = test_data.batch(4096).cache()"
   ],
   "metadata": {
    "collapsed": false,
    "ExecuteTime": {
     "end_time": "2024-05-11T14:30:29.257217Z",
     "start_time": "2024-05-11T14:30:29.244437Z"
    }
   },
   "id": "6eaf17f0244cf52a",
   "execution_count": 91
  },
  {
   "cell_type": "code",
   "outputs": [
    {
     "name": "stdout",
     "output_type": "stream",
     "text": [
      "Epoch 1/3\n"
     ]
    },
    {
     "ename": "RuntimeError",
     "evalue": "`tf.data.Dataset` only supports Python-style iteration in eager mode or within tf.function.",
     "output_type": "error",
     "traceback": [
      "\u001B[0;31m---------------------------------------------------------------------------\u001B[0m",
      "\u001B[0;31mRuntimeError\u001B[0m                              Traceback (most recent call last)",
      "Cell \u001B[0;32mIn[98], line 1\u001B[0m\n\u001B[0;32m----> 1\u001B[0m model\u001B[38;5;241m.\u001B[39mfit(train_data, epochs\u001B[38;5;241m=\u001B[39m\u001B[38;5;241m3\u001B[39m)\n",
      "File \u001B[0;32m~/anaconda3/lib/python3.11/site-packages/keras/src/utils/traceback_utils.py:122\u001B[0m, in \u001B[0;36mfilter_traceback.<locals>.error_handler\u001B[0;34m(*args, **kwargs)\u001B[0m\n\u001B[1;32m    119\u001B[0m     filtered_tb \u001B[38;5;241m=\u001B[39m _process_traceback_frames(e\u001B[38;5;241m.\u001B[39m__traceback__)\n\u001B[1;32m    120\u001B[0m     \u001B[38;5;66;03m# To get the full stack trace, call:\u001B[39;00m\n\u001B[1;32m    121\u001B[0m     \u001B[38;5;66;03m# `keras.config.disable_traceback_filtering()`\u001B[39;00m\n\u001B[0;32m--> 122\u001B[0m     \u001B[38;5;28;01mraise\u001B[39;00m e\u001B[38;5;241m.\u001B[39mwith_traceback(filtered_tb) \u001B[38;5;28;01mfrom\u001B[39;00m \u001B[38;5;28;01mNone\u001B[39;00m\n\u001B[1;32m    123\u001B[0m \u001B[38;5;28;01mfinally\u001B[39;00m:\n\u001B[1;32m    124\u001B[0m     \u001B[38;5;28;01mdel\u001B[39;00m filtered_tb\n",
      "File \u001B[0;32m~/anaconda3/lib/python3.11/site-packages/tensorflow/python/data/ops/dataset_ops.py:503\u001B[0m, in \u001B[0;36mDatasetV2.__iter__\u001B[0;34m(self)\u001B[0m\n\u001B[1;32m    501\u001B[0m     \u001B[38;5;28;01mreturn\u001B[39;00m iterator_ops\u001B[38;5;241m.\u001B[39mOwnedIterator(\u001B[38;5;28mself\u001B[39m)\n\u001B[1;32m    502\u001B[0m \u001B[38;5;28;01melse\u001B[39;00m:\n\u001B[0;32m--> 503\u001B[0m   \u001B[38;5;28;01mraise\u001B[39;00m \u001B[38;5;167;01mRuntimeError\u001B[39;00m(\u001B[38;5;124m\"\u001B[39m\u001B[38;5;124m`tf.data.Dataset` only supports Python-style \u001B[39m\u001B[38;5;124m\"\u001B[39m\n\u001B[1;32m    504\u001B[0m                      \u001B[38;5;124m\"\u001B[39m\u001B[38;5;124miteration in eager mode or within tf.function.\u001B[39m\u001B[38;5;124m\"\u001B[39m)\n",
      "\u001B[0;31mRuntimeError\u001B[0m: `tf.data.Dataset` only supports Python-style iteration in eager mode or within tf.function."
     ]
    }
   ],
   "source": [
    "model.fit(train_data, epochs=3)"
   ],
   "metadata": {
    "collapsed": false,
    "ExecuteTime": {
     "end_time": "2024-05-11T14:48:46.772944Z",
     "start_time": "2024-05-11T14:48:46.526337Z"
    }
   },
   "id": "26986b8bc9427a45",
   "execution_count": 98
  },
  {
   "cell_type": "code",
   "outputs": [
    {
     "data": {
      "text/plain": "         user_id  anime_id  rating\n6087150    57110       431       8\n5338830    50586       221       6\n4258572    40338     19221       7\n3222833    29778     13601      10\n2421377    23108      9919       9\n...          ...       ...     ...\n2591992    24520     18661       9\n1451692    13914      4181      10\n3966711    37539     30187       9\n5716384    53591        65       8\n4748581    45334     23755       7\n\n[5069792 rows x 3 columns]",
      "text/html": "<div>\n<style scoped>\n    .dataframe tbody tr th:only-of-type {\n        vertical-align: middle;\n    }\n\n    .dataframe tbody tr th {\n        vertical-align: top;\n    }\n\n    .dataframe thead th {\n        text-align: right;\n    }\n</style>\n<table border=\"1\" class=\"dataframe\">\n  <thead>\n    <tr style=\"text-align: right;\">\n      <th></th>\n      <th>user_id</th>\n      <th>anime_id</th>\n      <th>rating</th>\n    </tr>\n  </thead>\n  <tbody>\n    <tr>\n      <th>6087150</th>\n      <td>57110</td>\n      <td>431</td>\n      <td>8</td>\n    </tr>\n    <tr>\n      <th>5338830</th>\n      <td>50586</td>\n      <td>221</td>\n      <td>6</td>\n    </tr>\n    <tr>\n      <th>4258572</th>\n      <td>40338</td>\n      <td>19221</td>\n      <td>7</td>\n    </tr>\n    <tr>\n      <th>3222833</th>\n      <td>29778</td>\n      <td>13601</td>\n      <td>10</td>\n    </tr>\n    <tr>\n      <th>2421377</th>\n      <td>23108</td>\n      <td>9919</td>\n      <td>9</td>\n    </tr>\n    <tr>\n      <th>...</th>\n      <td>...</td>\n      <td>...</td>\n      <td>...</td>\n    </tr>\n    <tr>\n      <th>2591992</th>\n      <td>24520</td>\n      <td>18661</td>\n      <td>9</td>\n    </tr>\n    <tr>\n      <th>1451692</th>\n      <td>13914</td>\n      <td>4181</td>\n      <td>10</td>\n    </tr>\n    <tr>\n      <th>3966711</th>\n      <td>37539</td>\n      <td>30187</td>\n      <td>9</td>\n    </tr>\n    <tr>\n      <th>5716384</th>\n      <td>53591</td>\n      <td>65</td>\n      <td>8</td>\n    </tr>\n    <tr>\n      <th>4748581</th>\n      <td>45334</td>\n      <td>23755</td>\n      <td>7</td>\n    </tr>\n  </tbody>\n</table>\n<p>5069792 rows × 3 columns</p>\n</div>"
     },
     "execution_count": 95,
     "metadata": {},
     "output_type": "execute_result"
    }
   ],
   "source": [
    "train_data"
   ],
   "metadata": {
    "collapsed": false,
    "ExecuteTime": {
     "end_time": "2024-05-11T14:48:32.517052Z",
     "start_time": "2024-05-11T14:48:32.511774Z"
    }
   },
   "id": "78706bdb4cb89b32",
   "execution_count": 95
  },
  {
   "cell_type": "code",
   "outputs": [
    {
     "name": "stderr",
     "output_type": "stream",
     "text": [
      "2024-05-11 19:00:47.039017: W external/local_tsl/tsl/platform/cloud/google_auth_provider.cc:184] All attempts to get a Google authentication bearer token failed, returning an empty token. Retrieving token from files failed with \"NOT_FOUND: Could not locate the credentials file.\". Retrieving token from GCE failed with \"FAILED_PRECONDITION: Error executing an HTTP request: libcurl code 6 meaning 'Couldn't resolve host name', error details: Could not resolve host: metadata.google.internal\".\n"
     ]
    },
    {
     "name": "stdout",
     "output_type": "stream",
     "text": [
      "\u001B[1mDownloading and preparing dataset 4.70 MiB (download: 4.70 MiB, generated: 32.41 MiB, total: 37.10 MiB) to /Users/yassine/tensorflow_datasets/movielens/100k-ratings/0.1.1...\u001B[0m\n"
     ]
    },
    {
     "data": {
      "text/plain": "Dl Completed...: 0 url [00:00, ? url/s]",
      "application/vnd.jupyter.widget-view+json": {
       "version_major": 2,
       "version_minor": 0,
       "model_id": "58eba564c93b4ec28ffea67769c7fb77"
      }
     },
     "metadata": {},
     "output_type": "display_data"
    },
    {
     "data": {
      "text/plain": "Dl Size...: 0 MiB [00:00, ? MiB/s]",
      "application/vnd.jupyter.widget-view+json": {
       "version_major": 2,
       "version_minor": 0,
       "model_id": "0758810b73ff49d2b7731609a92d1c95"
      }
     },
     "metadata": {},
     "output_type": "display_data"
    },
    {
     "data": {
      "text/plain": "Extraction completed...: 0 file [00:00, ? file/s]",
      "application/vnd.jupyter.widget-view+json": {
       "version_major": 2,
       "version_minor": 0,
       "model_id": "4cfba2c7d056424c87fbccbc69506453"
      }
     },
     "metadata": {},
     "output_type": "display_data"
    },
    {
     "data": {
      "text/plain": "Generating splits...:   0%|          | 0/1 [00:00<?, ? splits/s]",
      "application/vnd.jupyter.widget-view+json": {
       "version_major": 2,
       "version_minor": 0,
       "model_id": "c79e1711c59c44dfb5d5d21835afbd2c"
      }
     },
     "metadata": {},
     "output_type": "display_data"
    },
    {
     "data": {
      "text/plain": "Generating train examples...:   0%|          | 0/100000 [00:00<?, ? examples/s]",
      "application/vnd.jupyter.widget-view+json": {
       "version_major": 2,
       "version_minor": 0,
       "model_id": "be8137bee83a48238a59cde636e8c951"
      }
     },
     "metadata": {},
     "output_type": "display_data"
    },
    {
     "data": {
      "text/plain": "Shuffling /Users/yassine/tensorflow_datasets/movielens/100k-ratings/0.1.1.incompleteCAVXZ4/movielens-train.tfr…",
      "application/vnd.jupyter.widget-view+json": {
       "version_major": 2,
       "version_minor": 0,
       "model_id": "cef3566014014f5180ca3395efb9f8f2"
      }
     },
     "metadata": {},
     "output_type": "display_data"
    },
    {
     "name": "stdout",
     "output_type": "stream",
     "text": [
      "\u001B[1mDataset movielens downloaded and prepared to /Users/yassine/tensorflow_datasets/movielens/100k-ratings/0.1.1. Subsequent calls will reuse this data.\u001B[0m\n",
      "\u001B[1mDownloading and preparing dataset 4.70 MiB (download: 4.70 MiB, generated: 150.35 KiB, total: 4.84 MiB) to /Users/yassine/tensorflow_datasets/movielens/100k-movies/0.1.1...\u001B[0m\n"
     ]
    },
    {
     "data": {
      "text/plain": "Dl Completed...: 0 url [00:00, ? url/s]",
      "application/vnd.jupyter.widget-view+json": {
       "version_major": 2,
       "version_minor": 0,
       "model_id": "349fa6600afb4744bd9201ee10e543d6"
      }
     },
     "metadata": {},
     "output_type": "display_data"
    },
    {
     "data": {
      "text/plain": "Dl Size...: 0 MiB [00:00, ? MiB/s]",
      "application/vnd.jupyter.widget-view+json": {
       "version_major": 2,
       "version_minor": 0,
       "model_id": "b8335f19bd034429aeb334b1ba36366e"
      }
     },
     "metadata": {},
     "output_type": "display_data"
    },
    {
     "data": {
      "text/plain": "Extraction completed...: 0 file [00:00, ? file/s]",
      "application/vnd.jupyter.widget-view+json": {
       "version_major": 2,
       "version_minor": 0,
       "model_id": "ca1b6a0a33f945e4987709556eda6a18"
      }
     },
     "metadata": {},
     "output_type": "display_data"
    },
    {
     "data": {
      "text/plain": "Generating splits...:   0%|          | 0/1 [00:00<?, ? splits/s]",
      "application/vnd.jupyter.widget-view+json": {
       "version_major": 2,
       "version_minor": 0,
       "model_id": "6d0e6a070eca4228b32b218ef41a5fd5"
      }
     },
     "metadata": {},
     "output_type": "display_data"
    },
    {
     "data": {
      "text/plain": "Generating train examples...:   0%|          | 0/1682 [00:00<?, ? examples/s]",
      "application/vnd.jupyter.widget-view+json": {
       "version_major": 2,
       "version_minor": 0,
       "model_id": "eff0db054c4a49e9a8476e37e471487e"
      }
     },
     "metadata": {},
     "output_type": "display_data"
    },
    {
     "data": {
      "text/plain": "Shuffling /Users/yassine/tensorflow_datasets/movielens/100k-movies/0.1.1.incomplete8ODZIT/movielens-train.tfre…",
      "application/vnd.jupyter.widget-view+json": {
       "version_major": 2,
       "version_minor": 0,
       "model_id": "ddf91c2f8ba949f1b345f0585ce3f97d"
      }
     },
     "metadata": {},
     "output_type": "display_data"
    },
    {
     "name": "stdout",
     "output_type": "stream",
     "text": [
      "\u001B[1mDataset movielens downloaded and prepared to /Users/yassine/tensorflow_datasets/movielens/100k-movies/0.1.1. Subsequent calls will reuse this data.\u001B[0m\n"
     ]
    }
   ],
   "source": [
    "import tensorflow_datasets as tfds\n",
    "import tensorflow_recommenders as tfrs\n",
    "\n",
    "# Load data on movie ratings.\n",
    "ratings = tfds.load(\"movielens/100k-ratings\", split=\"train\")\n",
    "movies = tfds.load(\"movielens/100k-movies\", split=\"train\")"
   ],
   "metadata": {
    "collapsed": false,
    "ExecuteTime": {
     "end_time": "2024-05-11T17:01:40.379747Z",
     "start_time": "2024-05-11T17:00:46.951187Z"
    }
   },
   "id": "c6198528f8a2ea2c",
   "execution_count": 99
  },
  {
   "cell_type": "code",
   "outputs": [
    {
     "name": "stdout",
     "output_type": "stream",
     "text": [
      "<_PrefetchDataset element_spec={'bucketized_user_age': TensorSpec(shape=(), dtype=tf.float32, name=None), 'movie_genres': TensorSpec(shape=(?,), dtype=tf.int64, name=None), 'movie_id': TensorSpec(shape=(), dtype=tf.string, name=None), 'movie_title': TensorSpec(shape=(), dtype=tf.string, name=None), 'raw_user_age': TensorSpec(shape=(), dtype=tf.float32, name=None), 'timestamp': TensorSpec(shape=(), dtype=tf.int64, name=None), 'user_gender': TensorSpec(shape=(), dtype=tf.bool, name=None), 'user_id': TensorSpec(shape=(), dtype=tf.string, name=None), 'user_occupation_label': TensorSpec(shape=(), dtype=tf.int64, name=None), 'user_occupation_text': TensorSpec(shape=(), dtype=tf.string, name=None), 'user_rating': TensorSpec(shape=(), dtype=tf.float32, name=None), 'user_zip_code': TensorSpec(shape=(), dtype=tf.string, name=None)}>\n"
     ]
    }
   ],
   "source": [
    "print(ratings)"
   ],
   "metadata": {
    "collapsed": false,
    "ExecuteTime": {
     "end_time": "2024-05-11T17:03:18.003250Z",
     "start_time": "2024-05-11T17:03:18.000834Z"
    }
   },
   "id": "1e5bfc1efae130ad",
   "execution_count": 105
  },
  {
   "cell_type": "code",
   "outputs": [
    {
     "name": "stdout",
     "output_type": "stream",
     "text": [
      "LabelEncoder()\n"
     ]
    }
   ],
   "source": [
    "import scipy.sparse as sp\n",
    "from scipy.sparse import csr_matrix\n",
    "from sklearn.preprocessing import LabelEncoder\n",
    "from sklearn.model_selection import train_test_split\n",
    "\n",
    "#creating a sparse matrix\n",
    "def create_matrix(data, user_col, item_col, rating_col):\n",
    "    le_user = LabelEncoder()\n",
    "    le_item = LabelEncoder()\n",
    "    data[\"user\"] = le_user.fit_transform(data[user_col])\n",
    "    data[\"item\"] = le_item.fit_transform(data[item_col])\n",
    "    num_users = data[\"user\"].nunique()\n",
    "    num_items = data[\"item\"].nunique()\n",
    "    matrix = sp.coo_matrix((data[rating_col], (data[\"user\"], data[\"item\"])), shape=(num_users, num_items))\n",
    "    return matrix, le_user, le_item\n",
    "\n",
    "\n",
    "matrix, le_user, le_item = create_matrix(rating1, \"user_id\", \"anime_id\", \"rating\")\n"
   ],
   "metadata": {
    "collapsed": false,
    "ExecuteTime": {
     "end_time": "2024-05-11T19:25:47.920609Z",
     "start_time": "2024-05-11T19:25:47.285988Z"
    }
   },
   "id": "be0c58a5225afee3",
   "execution_count": 108
  },
  {
   "cell_type": "code",
   "outputs": [
    {
     "ename": "NameError",
     "evalue": "name 'matrix' is not defined",
     "output_type": "error",
     "traceback": [
      "\u001B[0;31m---------------------------------------------------------------------------\u001B[0m",
      "\u001B[0;31mNameError\u001B[0m                                 Traceback (most recent call last)",
      "Cell \u001B[0;32mIn[1], line 5\u001B[0m\n\u001B[1;32m      2\u001B[0m \u001B[38;5;28;01mdef\u001B[39;00m \u001B[38;5;21mcalculate_sparsity\u001B[39m(matrix):\n\u001B[1;32m      3\u001B[0m     \u001B[38;5;28;01mreturn\u001B[39;00m \u001B[38;5;241m1\u001B[39m \u001B[38;5;241m-\u001B[39m matrix\u001B[38;5;241m.\u001B[39mnnz \u001B[38;5;241m/\u001B[39m (matrix\u001B[38;5;241m.\u001B[39mshape[\u001B[38;5;241m0\u001B[39m] \u001B[38;5;241m*\u001B[39m matrix\u001B[38;5;241m.\u001B[39mshape[\u001B[38;5;241m1\u001B[39m]) \n\u001B[0;32m----> 5\u001B[0m sparcity \u001B[38;5;241m=\u001B[39m calculate_sparsity(matrix)\n\u001B[1;32m      6\u001B[0m \u001B[38;5;28mprint\u001B[39m(matrix\u001B[38;5;241m.\u001B[39mnnz)\n\u001B[1;32m      7\u001B[0m \u001B[38;5;28mprint\u001B[39m(sparcity)\n",
      "\u001B[0;31mNameError\u001B[0m: name 'matrix' is not defined"
     ]
    }
   ],
   "source": [
    "#calculating the sparsity of the matrix\n",
    "def calculate_sparsity(matrix):\n",
    "    return 1 - matrix.nnz / (matrix.shape[0] * matrix.shape[1]) \n",
    "\n",
    "sparcity = calculate_sparsity(matrix)\n",
    "print(matrix.nnz)\n",
    "print(sparcity)\n",
    "print(matrix.shape[0] * matrix.shape[1]) \n"
   ],
   "metadata": {
    "collapsed": false,
    "ExecuteTime": {
     "end_time": "2024-05-12T13:30:11.250421Z",
     "start_time": "2024-05-12T13:30:11.044576Z"
    }
   },
   "id": "9c4f7cb58f055dd6",
   "execution_count": 1
  },
  {
   "cell_type": "code",
   "outputs": [],
   "source": [
    "import pandas as pd\n",
    "rating1= pd.read_csv(\"rating.csv\")\n",
    "rating1 = rating1.rename(columns={\"user_id\": \"user\", \"anime_id\": \"item\", \"rating\": \"label\"})\n"
   ],
   "metadata": {
    "collapsed": false,
    "ExecuteTime": {
     "end_time": "2024-05-12T13:30:26.543740Z",
     "start_time": "2024-05-12T13:30:24.916413Z"
    }
   },
   "id": "5906d466524b0584",
   "execution_count": 4
  },
  {
   "cell_type": "code",
   "outputs": [
    {
     "data": {
      "text/plain": "          user   item  label\n47           1   8074     10\n81           1  11617     10\n83           1  11757     10\n101          1  15451     10\n153          2  11771     10\n...        ...    ...    ...\n7813732  73515  16512      7\n7813733  73515  17187      9\n7813734  73515  22145     10\n7813735  73516    790      9\n7813736  73516   8074      9\n\n[6337241 rows x 3 columns]",
      "text/html": "<div>\n<style scoped>\n    .dataframe tbody tr th:only-of-type {\n        vertical-align: middle;\n    }\n\n    .dataframe tbody tr th {\n        vertical-align: top;\n    }\n\n    .dataframe thead th {\n        text-align: right;\n    }\n</style>\n<table border=\"1\" class=\"dataframe\">\n  <thead>\n    <tr style=\"text-align: right;\">\n      <th></th>\n      <th>user</th>\n      <th>item</th>\n      <th>label</th>\n    </tr>\n  </thead>\n  <tbody>\n    <tr>\n      <th>47</th>\n      <td>1</td>\n      <td>8074</td>\n      <td>10</td>\n    </tr>\n    <tr>\n      <th>81</th>\n      <td>1</td>\n      <td>11617</td>\n      <td>10</td>\n    </tr>\n    <tr>\n      <th>83</th>\n      <td>1</td>\n      <td>11757</td>\n      <td>10</td>\n    </tr>\n    <tr>\n      <th>101</th>\n      <td>1</td>\n      <td>15451</td>\n      <td>10</td>\n    </tr>\n    <tr>\n      <th>153</th>\n      <td>2</td>\n      <td>11771</td>\n      <td>10</td>\n    </tr>\n    <tr>\n      <th>...</th>\n      <td>...</td>\n      <td>...</td>\n      <td>...</td>\n    </tr>\n    <tr>\n      <th>7813732</th>\n      <td>73515</td>\n      <td>16512</td>\n      <td>7</td>\n    </tr>\n    <tr>\n      <th>7813733</th>\n      <td>73515</td>\n      <td>17187</td>\n      <td>9</td>\n    </tr>\n    <tr>\n      <th>7813734</th>\n      <td>73515</td>\n      <td>22145</td>\n      <td>10</td>\n    </tr>\n    <tr>\n      <th>7813735</th>\n      <td>73516</td>\n      <td>790</td>\n      <td>9</td>\n    </tr>\n    <tr>\n      <th>7813736</th>\n      <td>73516</td>\n      <td>8074</td>\n      <td>9</td>\n    </tr>\n  </tbody>\n</table>\n<p>6337241 rows × 3 columns</p>\n</div>"
     },
     "execution_count": 5,
     "metadata": {},
     "output_type": "execute_result"
    }
   ],
   "source": [
    "rating1 = rating1[rating1.label != -1]\n",
    "rating1 = rating1.dropna()\n",
    "rating1"
   ],
   "metadata": {
    "collapsed": false,
    "ExecuteTime": {
     "end_time": "2024-05-12T13:30:28.730119Z",
     "start_time": "2024-05-12T13:30:28.480718Z"
    }
   },
   "id": "158ffefe96e579b7",
   "execution_count": 5
  },
  {
   "cell_type": "code",
   "outputs": [
    {
     "name": "stdout",
     "output_type": "stream",
     "text": [
      "WARNING:tensorflow:From /Users/yassine/anaconda3/lib/python3.11/site-packages/tensorflow/python/compat/v2_compat.py:98: disable_resource_variables (from tensorflow.python.ops.resource_variables_toggle) is deprecated and will be removed in a future version.\n",
      "Instructions for updating:\n",
      "non-resource variables are not supported in the long term\n",
      "n_users: 68861, n_items: 9734, data density: 0.7564 %\n"
     ]
    }
   ],
   "source": [
    "import numpy as np\n",
    "import pandas as pd\n",
    "from libreco.data import random_split, DatasetPure\n",
    "from libreco.algorithms import LightGCN  # pure data, algorithm LightGCN\n",
    "from libreco.evaluation import evaluate\n",
    "\n",
    "#data = pd.read_csv(\"examples/sample_data/sample_movielens_rating.dat\", sep=\"::\",names=[\"user\", \"item\", \"label\", \"time\"])\n",
    "\n",
    "data  = rating1\n",
    "#changing the \n",
    "\n",
    "# split whole data into three folds for training, evaluating and testing\n",
    "train_data, eval_data, test_data = random_split(data, multi_ratios=[0.8, 0.1, 0.1])\n",
    "\n",
    "train_data, data_info = DatasetPure.build_trainset(train_data)\n",
    "eval_data = DatasetPure.build_evalset(eval_data)\n",
    "test_data = DatasetPure.build_testset(test_data)\n",
    "print(data_info)  "
   ],
   "metadata": {
    "collapsed": false,
    "ExecuteTime": {
     "end_time": "2024-05-12T13:30:49.456543Z",
     "start_time": "2024-05-12T13:30:38.689536Z"
    }
   },
   "id": "7007698786f91913",
   "execution_count": 6
  },
  {
   "cell_type": "code",
   "outputs": [],
   "source": [
    "train_data, eval_data, test_data = random_split(data, multi_ratios=[0.8, 0.1, 0.1])"
   ],
   "metadata": {
    "collapsed": false,
    "ExecuteTime": {
     "end_time": "2024-05-12T13:30:56.018642Z",
     "start_time": "2024-05-12T13:30:54.580524Z"
    }
   },
   "id": "7042620cb300799f",
   "execution_count": 7
  },
  {
   "cell_type": "code",
   "outputs": [],
   "source": [
    "train_data, data_info= DatasetPure.build_trainset(train_data)\n",
    "eval_data = DatasetPure.build_evalset(eval_data)\n",
    "test_data = DatasetPure.build_testset(test_data)"
   ],
   "metadata": {
    "collapsed": false,
    "ExecuteTime": {
     "end_time": "2024-05-12T13:31:03.723913Z",
     "start_time": "2024-05-12T13:30:58.421457Z"
    }
   },
   "id": "ca2da45d464b77ca",
   "execution_count": 8
  },
  {
   "cell_type": "code",
   "outputs": [],
   "source": [
    "\n",
    "from libreco.algorithms import NCF  # pure data, \n",
    "\n",
    "ncf = NCF(\n",
    "    task=\"rating\",\n",
    "    data_info=data_info,\n",
    "    loss_type=\"cross_entropy\",\n",
    "    embed_size=16,\n",
    "    n_epochs=10,\n",
    "    lr=1e-3,\n",
    "    batch_size=2048,\n",
    "    num_neg=1,\n",
    ")"
   ],
   "metadata": {
    "collapsed": false,
    "ExecuteTime": {
     "end_time": "2024-05-12T13:32:27.512784Z",
     "start_time": "2024-05-12T13:32:27.455048Z"
    }
   },
   "id": "1812709dc7f3644c",
   "execution_count": 10
  },
  {
   "cell_type": "code",
   "outputs": [
    {
     "name": "stdout",
     "output_type": "stream",
     "text": [
      "Training start time: \u001B[35m2024-05-12 15:32:29\u001B[0m\n"
     ]
    },
    {
     "ename": "AttributeError",
     "evalue": "`batch_normalization` is not available with Keras 3.",
     "output_type": "error",
     "traceback": [
      "\u001B[0;31m---------------------------------------------------------------------------\u001B[0m",
      "\u001B[0;31mAttributeError\u001B[0m                            Traceback (most recent call last)",
      "Cell \u001B[0;32mIn[11], line 7\u001B[0m\n\u001B[1;32m      5\u001B[0m \u001B[38;5;28;01mfrom\u001B[39;00m \u001B[38;5;21;01mlibreco\u001B[39;00m\u001B[38;5;21;01m.\u001B[39;00m\u001B[38;5;21;01mevaluation\u001B[39;00m \u001B[38;5;28;01mimport\u001B[39;00m evaluate\n\u001B[1;32m      6\u001B[0m \u001B[38;5;66;03m# monitor metrics on eval data during training\u001B[39;00m\n\u001B[0;32m----> 7\u001B[0m ncf\u001B[38;5;241m.\u001B[39mfit(\n\u001B[1;32m      8\u001B[0m     train_data,\n\u001B[1;32m      9\u001B[0m     neg_sampling\u001B[38;5;241m=\u001B[39m\u001B[38;5;28;01mFalse\u001B[39;00m, \u001B[38;5;66;03m#for rating, this param is false else True\u001B[39;00m\n\u001B[1;32m     10\u001B[0m     verbose\u001B[38;5;241m=\u001B[39m\u001B[38;5;241m2\u001B[39m,\n\u001B[1;32m     11\u001B[0m     eval_data\u001B[38;5;241m=\u001B[39meval_data,\n\u001B[1;32m     12\u001B[0m     metrics\u001B[38;5;241m=\u001B[39m[\u001B[38;5;124m\"\u001B[39m\u001B[38;5;124mloss\u001B[39m\u001B[38;5;124m\"\u001B[39m],\n\u001B[1;32m     13\u001B[0m )\n\u001B[1;32m     15\u001B[0m \u001B[38;5;66;03m# do final evaluation on test data\u001B[39;00m\n\u001B[1;32m     16\u001B[0m evaluate(\n\u001B[1;32m     17\u001B[0m     model\u001B[38;5;241m=\u001B[39mncf,\n\u001B[1;32m     18\u001B[0m     data\u001B[38;5;241m=\u001B[39mtest_data,\n\u001B[1;32m     19\u001B[0m     neg_sampling\u001B[38;5;241m=\u001B[39m\u001B[38;5;28;01mFalse\u001B[39;00m,\n\u001B[1;32m     20\u001B[0m     metrics\u001B[38;5;241m=\u001B[39m[\u001B[38;5;124m\"\u001B[39m\u001B[38;5;124mloss\u001B[39m\u001B[38;5;124m\"\u001B[39m],\n\u001B[1;32m     21\u001B[0m )\n",
      "File \u001B[0;32m~/anaconda3/lib/python3.11/site-packages/libreco/bases/tf_base.py:128\u001B[0m, in \u001B[0;36mTfBase.fit\u001B[0;34m(self, train_data, neg_sampling, verbose, shuffle, eval_data, metrics, k, eval_batch_size, eval_user_num, num_workers)\u001B[0m\n\u001B[1;32m    126\u001B[0m \u001B[38;5;28mself\u001B[39m\u001B[38;5;241m.\u001B[39mshow_start_time()\n\u001B[1;32m    127\u001B[0m \u001B[38;5;28;01mif\u001B[39;00m \u001B[38;5;129;01mnot\u001B[39;00m \u001B[38;5;28mself\u001B[39m\u001B[38;5;241m.\u001B[39mmodel_built:\n\u001B[0;32m--> 128\u001B[0m     \u001B[38;5;28mself\u001B[39m\u001B[38;5;241m.\u001B[39mbuild_model()\n\u001B[1;32m    129\u001B[0m     \u001B[38;5;28mself\u001B[39m\u001B[38;5;241m.\u001B[39mmodel_built \u001B[38;5;241m=\u001B[39m \u001B[38;5;28;01mTrue\u001B[39;00m\n\u001B[1;32m    130\u001B[0m \u001B[38;5;28;01mif\u001B[39;00m \u001B[38;5;28mself\u001B[39m\u001B[38;5;241m.\u001B[39mtrainer \u001B[38;5;129;01mis\u001B[39;00m \u001B[38;5;28;01mNone\u001B[39;00m:\n",
      "File \u001B[0;32m~/anaconda3/lib/python3.11/site-packages/libreco/algorithms/ncf.py:138\u001B[0m, in \u001B[0;36mNCF.build_model\u001B[0;34m(self)\u001B[0m\n\u001B[1;32m    136\u001B[0m gmf_layer \u001B[38;5;241m=\u001B[39m tf\u001B[38;5;241m.\u001B[39mmultiply(user_embeds, item_embeds)\n\u001B[1;32m    137\u001B[0m mlp_input \u001B[38;5;241m=\u001B[39m tf\u001B[38;5;241m.\u001B[39mconcat([user_embeds, item_embeds], axis\u001B[38;5;241m=\u001B[39m\u001B[38;5;241m1\u001B[39m)\n\u001B[0;32m--> 138\u001B[0m mlp_layer \u001B[38;5;241m=\u001B[39m dense_nn(\n\u001B[1;32m    139\u001B[0m     mlp_input,\n\u001B[1;32m    140\u001B[0m     \u001B[38;5;28mself\u001B[39m\u001B[38;5;241m.\u001B[39mhidden_units,\n\u001B[1;32m    141\u001B[0m     use_bn\u001B[38;5;241m=\u001B[39m\u001B[38;5;28mself\u001B[39m\u001B[38;5;241m.\u001B[39muse_bn,\n\u001B[1;32m    142\u001B[0m     dropout_rate\u001B[38;5;241m=\u001B[39m\u001B[38;5;28mself\u001B[39m\u001B[38;5;241m.\u001B[39mdropout_rate,\n\u001B[1;32m    143\u001B[0m     is_training\u001B[38;5;241m=\u001B[39m\u001B[38;5;28mself\u001B[39m\u001B[38;5;241m.\u001B[39mis_training,\n\u001B[1;32m    144\u001B[0m )\n\u001B[1;32m    145\u001B[0m concat_layer \u001B[38;5;241m=\u001B[39m tf\u001B[38;5;241m.\u001B[39mconcat([gmf_layer, mlp_layer], axis\u001B[38;5;241m=\u001B[39m\u001B[38;5;241m1\u001B[39m)\n\u001B[1;32m    146\u001B[0m \u001B[38;5;28mself\u001B[39m\u001B[38;5;241m.\u001B[39moutput \u001B[38;5;241m=\u001B[39m tf\u001B[38;5;241m.\u001B[39mreshape(tf_dense(units\u001B[38;5;241m=\u001B[39m\u001B[38;5;241m1\u001B[39m)(concat_layer), [\u001B[38;5;241m-\u001B[39m\u001B[38;5;241m1\u001B[39m])\n",
      "File \u001B[0;32m~/anaconda3/lib/python3.11/site-packages/libreco/layers/dense.py:31\u001B[0m, in \u001B[0;36mdense_nn\u001B[0;34m(net, hidden_units, activation, use_bn, bn_after_activation, dropout_rate, is_training, reuse_layer, name)\u001B[0m\n\u001B[1;32m     29\u001B[0m \u001B[38;5;28;01mwith\u001B[39;00m tf\u001B[38;5;241m.\u001B[39mvariable_scope(name, reuse\u001B[38;5;241m=\u001B[39mreuse):\n\u001B[1;32m     30\u001B[0m     \u001B[38;5;28;01mif\u001B[39;00m use_bn:\n\u001B[0;32m---> 31\u001B[0m         net \u001B[38;5;241m=\u001B[39m tf\u001B[38;5;241m.\u001B[39mlayers\u001B[38;5;241m.\u001B[39mbatch_normalization(net, training\u001B[38;5;241m=\u001B[39mis_training)\n\u001B[1;32m     32\u001B[0m     \u001B[38;5;28;01mfor\u001B[39;00m i, units \u001B[38;5;129;01min\u001B[39;00m \u001B[38;5;28menumerate\u001B[39m(hidden_units, start\u001B[38;5;241m=\u001B[39m\u001B[38;5;241m1\u001B[39m):\n\u001B[1;32m     33\u001B[0m         layer_name \u001B[38;5;241m=\u001B[39m name \u001B[38;5;241m+\u001B[39m \u001B[38;5;124m\"\u001B[39m\u001B[38;5;124m_layer\u001B[39m\u001B[38;5;124m\"\u001B[39m \u001B[38;5;241m+\u001B[39m \u001B[38;5;28mstr\u001B[39m(i)\n",
      "File \u001B[0;32m~/anaconda3/lib/python3.11/site-packages/tensorflow/python/util/lazy_loader.py:207\u001B[0m, in \u001B[0;36mKerasLazyLoader.__getattr__\u001B[0;34m(self, item)\u001B[0m\n\u001B[1;32m    200\u001B[0m     \u001B[38;5;28;01mraise\u001B[39;00m \u001B[38;5;167;01mAttributeError\u001B[39;00m(\n\u001B[1;32m    201\u001B[0m         \u001B[38;5;124m\"\u001B[39m\u001B[38;5;124m`tf.compat.v2.keras` is not available with Keras 3. Just use \u001B[39m\u001B[38;5;124m\"\u001B[39m\n\u001B[1;32m    202\u001B[0m         \u001B[38;5;124m\"\u001B[39m\u001B[38;5;124m`import keras` instead.\u001B[39m\u001B[38;5;124m\"\u001B[39m\n\u001B[1;32m    203\u001B[0m     )\n\u001B[1;32m    204\u001B[0m   \u001B[38;5;28;01melif\u001B[39;00m \u001B[38;5;28mself\u001B[39m\u001B[38;5;241m.\u001B[39m_tfll_submodule \u001B[38;5;129;01mand\u001B[39;00m \u001B[38;5;28mself\u001B[39m\u001B[38;5;241m.\u001B[39m_tfll_submodule\u001B[38;5;241m.\u001B[39mstartswith(\n\u001B[1;32m    205\u001B[0m       \u001B[38;5;124m\"\u001B[39m\u001B[38;5;124m__internal__.legacy.\u001B[39m\u001B[38;5;124m\"\u001B[39m\n\u001B[1;32m    206\u001B[0m   ):\n\u001B[0;32m--> 207\u001B[0m     \u001B[38;5;28;01mraise\u001B[39;00m \u001B[38;5;167;01mAttributeError\u001B[39;00m(\n\u001B[1;32m    208\u001B[0m         \u001B[38;5;124mf\u001B[39m\u001B[38;5;124m\"\u001B[39m\u001B[38;5;124m`\u001B[39m\u001B[38;5;132;01m{\u001B[39;00mitem\u001B[38;5;132;01m}\u001B[39;00m\u001B[38;5;124m` is not available with Keras 3.\u001B[39m\u001B[38;5;124m\"\u001B[39m\n\u001B[1;32m    209\u001B[0m     )\n\u001B[1;32m    210\u001B[0m module \u001B[38;5;241m=\u001B[39m \u001B[38;5;28mself\u001B[39m\u001B[38;5;241m.\u001B[39m_load()\n\u001B[1;32m    211\u001B[0m \u001B[38;5;28;01mreturn\u001B[39;00m \u001B[38;5;28mgetattr\u001B[39m(module, item)\n",
      "\u001B[0;31mAttributeError\u001B[0m: `batch_normalization` is not available with Keras 3."
     ]
    }
   ],
   "source": [
    "#pip install LibRecommender\n",
    "import numpy as np\n",
    "import pandas as pd\n",
    "\n",
    "from libreco.evaluation import evaluate\n",
    "# monitor metrics on eval data during training\n",
    "ncf.fit(\n",
    "    train_data,\n",
    "    neg_sampling=False, #for rating, this param is false else True\n",
    "    verbose=2,\n",
    "    eval_data=eval_data,\n",
    "    metrics=[\"loss\"],\n",
    ")\n",
    "\n",
    "# do final evaluation on test data\n",
    "evaluate(\n",
    "    model=ncf,\n",
    "    data=test_data,\n",
    "    neg_sampling=False,\n",
    "    metrics=[\"loss\"],\n",
    ")\n",
    "#for implicit feedback, metrics like precision@k, recall@k, ndcg can be used"
   ],
   "metadata": {
    "collapsed": false,
    "ExecuteTime": {
     "end_time": "2024-05-12T13:32:29.635425Z",
     "start_time": "2024-05-12T13:32:29.507053Z"
    }
   },
   "id": "690a1a4939dc74c4",
   "execution_count": 11
  },
  {
   "cell_type": "code",
   "outputs": [],
   "source": [],
   "metadata": {
    "collapsed": false
   },
   "id": "76f90cb371d12dc4"
  }
 ],
 "metadata": {
  "kernelspec": {
   "display_name": "Python 3",
   "language": "python",
   "name": "python3"
  },
  "language_info": {
   "codemirror_mode": {
    "name": "ipython",
    "version": 2
   },
   "file_extension": ".py",
   "mimetype": "text/x-python",
   "name": "python",
   "nbconvert_exporter": "python",
   "pygments_lexer": "ipython2",
   "version": "2.7.6"
  }
 },
 "nbformat": 4,
 "nbformat_minor": 5
}
