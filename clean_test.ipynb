{
 "cells": [
  {
   "cell_type": "code",
   "execution_count": 1,
   "id": "initial_id",
   "metadata": {
    "collapsed": true,
    "ExecuteTime": {
     "end_time": "2024-05-12T13:42:41.950305Z",
     "start_time": "2024-05-12T13:42:38.405292Z"
    }
   },
   "outputs": [],
   "source": [
    "import os\n",
    "import pprint\n",
    "import tempfile\n",
    "\n",
    "from typing import Dict, Text\n",
    "\n",
    "import numpy as np\n",
    "import tensorflow as tf\n",
    "import tensorflow_datasets as tfds"
   ]
  },
  {
   "cell_type": "code",
   "outputs": [],
   "source": [
    "import tensorflow_recommenders as tfrs"
   ],
   "metadata": {
    "collapsed": false,
    "ExecuteTime": {
     "end_time": "2024-05-12T13:42:46.025515Z",
     "start_time": "2024-05-12T13:42:46.009739Z"
    }
   },
   "id": "6dbbd21fc37582ef",
   "execution_count": 2
  },
  {
   "cell_type": "markdown",
   "source": [
    "<h2>Data preparation</h2>"
   ],
   "metadata": {
    "collapsed": false
   },
   "id": "724c96f31349634a"
  },
  {
   "cell_type": "markdown",
   "source": [
    "For this part we need to pre process the data and then convert it into a tf.data.Dataset\n"
   ],
   "metadata": {
    "collapsed": false
   },
   "id": "a671762c6a37372f"
  },
  {
   "cell_type": "code",
   "outputs": [],
   "source": [
    "import pandas as pd\n",
    "anime = pd.read_csv('anime.csv')\n",
    "rating = pd.read_csv('rating.csv')\n",
    "#remouve nan values\n",
    "anime = anime.dropna()\n",
    "rating = rating.dropna()\n",
    "\n",
    "\n",
    "rating['user_id'] = rating['user_id'].astype(str)\n",
    "rating['anime_id'] = rating['anime_id'].astype(str)\n",
    "anime[\"anime_id\"] = anime[\"anime_id\"].astype(str)\n",
    "\n",
    "unique_user_ids = list(rating.user_id.unique())\n",
    "\n",
    "unique_anime_ids = list(anime.anime_id.unique())"
   ],
   "metadata": {
    "collapsed": false,
    "ExecuteTime": {
     "end_time": "2024-05-12T17:22:11.229285Z",
     "start_time": "2024-05-12T17:22:06.556298Z"
    }
   },
   "id": "e3d3a50a1372ccd4",
   "execution_count": 144
  },
  {
   "cell_type": "code",
   "outputs": [],
   "source": [
    "\n",
    "unique_user_ids = np.unique(unique_user_ids)\n",
    "unique_anime_ids = np.unique(unique_anime_ids)"
   ],
   "metadata": {
    "collapsed": false,
    "ExecuteTime": {
     "end_time": "2024-05-12T17:22:12.109577Z",
     "start_time": "2024-05-12T17:22:12.060407Z"
    }
   },
   "id": "4d4db068f5ac3697",
   "execution_count": 145
  },
  {
   "cell_type": "code",
   "outputs": [
    {
     "data": {
      "text/plain": "<_TensorSliceDataset element_spec={'user_id': TensorSpec(shape=(), dtype=tf.string, name=None), 'anime_id': TensorSpec(shape=(), dtype=tf.string, name=None), 'rating': TensorSpec(shape=(), dtype=tf.int64, name=None)}>"
     },
     "execution_count": 146,
     "metadata": {},
     "output_type": "execute_result"
    }
   ],
   "source": [
    "ratings = tf.data.Dataset.from_tensor_slices(dict(rating))\n",
    "ratings "
   ],
   "metadata": {
    "collapsed": false,
    "ExecuteTime": {
     "end_time": "2024-05-12T17:22:18.155494Z",
     "start_time": "2024-05-12T17:22:17.097388Z"
    }
   },
   "id": "b7ec5989ea8f8277",
   "execution_count": 146
  },
  {
   "cell_type": "code",
   "outputs": [
    {
     "ename": "AttributeError",
     "evalue": "'_TensorSliceDataset' object has no attribute 'dtype'",
     "output_type": "error",
     "traceback": [
      "\u001B[0;31m---------------------------------------------------------------------------\u001B[0m",
      "\u001B[0;31mAttributeError\u001B[0m                            Traceback (most recent call last)",
      "Cell \u001B[0;32mIn[147], line 1\u001B[0m\n\u001B[0;32m----> 1\u001B[0m ratings\u001B[38;5;241m.\u001B[39mdtype\n",
      "\u001B[0;31mAttributeError\u001B[0m: '_TensorSliceDataset' object has no attribute 'dtype'"
     ]
    }
   ],
   "source": [
    "ratings.dtype"
   ],
   "metadata": {
    "collapsed": false,
    "ExecuteTime": {
     "end_time": "2024-05-12T17:22:20.465985Z",
     "start_time": "2024-05-12T17:22:20.338190Z"
    }
   },
   "id": "7c41111756a168f9",
   "execution_count": 147
  },
  {
   "cell_type": "code",
   "outputs": [],
   "source": [
    "tf.random.set_seed(42)\n",
    "shuffled = ratings.shuffle(100_000, seed=42, reshuffle_each_iteration=False)\n",
    "\n",
    "train = shuffled.take(80_000)\n",
    "test = shuffled.skip(80_000).take(20_000)\n"
   ],
   "metadata": {
    "collapsed": false,
    "ExecuteTime": {
     "end_time": "2024-05-12T17:22:26.413692Z",
     "start_time": "2024-05-12T17:22:26.335666Z"
    }
   },
   "id": "c6d75ca4d6058e80",
   "execution_count": 148
  },
  {
   "cell_type": "code",
   "outputs": [
    {
     "data": {
      "text/plain": "<_TakeDataset element_spec={'user_id': TensorSpec(shape=(), dtype=tf.string, name=None), 'anime_id': TensorSpec(shape=(), dtype=tf.string, name=None), 'rating': TensorSpec(shape=(), dtype=tf.int64, name=None)}>"
     },
     "execution_count": 149,
     "metadata": {},
     "output_type": "execute_result"
    }
   ],
   "source": [
    "train"
   ],
   "metadata": {
    "collapsed": false,
    "ExecuteTime": {
     "end_time": "2024-05-12T17:22:28.275571Z",
     "start_time": "2024-05-12T17:22:28.267931Z"
    }
   },
   "id": "a95ec8af47cd69db",
   "execution_count": 149
  },
  {
   "cell_type": "markdown",
   "source": [
    "<h2>Model definition</h2>"
   ],
   "metadata": {
    "collapsed": false
   },
   "id": "5b1803b98f45105b"
  },
  {
   "cell_type": "code",
   "outputs": [],
   "source": [
    "class RankingModel(tf.keras.Model):\n",
    "\n",
    "  def __init__(self):\n",
    "    super().__init__()\n",
    "    embedding_dimension = 32\n",
    "\n",
    "    # Compute embeddings for users.\n",
    "    self.user_embeddings = tf.keras.Sequential([\n",
    "      tf.keras.layers.StringLookup(\n",
    "        vocabulary=unique_user_ids, mask_token=None),\n",
    "      tf.keras.layers.Embedding(len(unique_user_ids) + 1, embedding_dimension)\n",
    "    ])\n",
    "\n",
    "    # Compute embeddings for movies.\n",
    "    self.anime_embeddings = tf.keras.Sequential([\n",
    "      tf.keras.layers.StringLookup(\n",
    "        vocabulary=unique_anime_ids, mask_token=None),\n",
    "      tf.keras.layers.Embedding(len(unique_anime_ids) + 1, embedding_dimension)\n",
    "    ])\n",
    "\n",
    "    # Compute predictions.\n",
    "    self.ratings = tf.keras.Sequential([\n",
    "      # Learn multiple dense layers.\n",
    "      tf.keras.layers.Dense(256, activation=\"relu\"),\n",
    "      tf.keras.layers.Dense(64, activation=\"relu\"),\n",
    "      # Make rating predictions in the final layer.\n",
    "      tf.keras.layers.Dense(1)\n",
    "  ])\n",
    "\n",
    "  def call(self, inputs):\n",
    "\n",
    "    user_id, anime_id = inputs\n",
    "    \n",
    "    \"\"\"user_id=tf.convert_to_tensor(user_id)\n",
    "    anime_id=tf.convert_to_tensor(anime_id)\"\"\"\n",
    "    \n",
    "    user_embedding = self.user_embeddings(user_id)\n",
    "    anime_embedding = self.anime_embeddings(anime_id)\n",
    "\n",
    "    return self.ratings(tf.concat([user_embedding, anime_embedding], axis=1))"
   ],
   "metadata": {
    "collapsed": false,
    "ExecuteTime": {
     "end_time": "2024-05-12T17:22:30.101652Z",
     "start_time": "2024-05-12T17:22:30.077992Z"
    }
   },
   "id": "a2553923cf6ad63c",
   "execution_count": 150
  },
  {
   "cell_type": "code",
   "outputs": [
    {
     "data": {
      "text/plain": "<tf.Tensor: shape=(1, 1), dtype=float32, numpy=array([[-0.0285008]], dtype=float32)>"
     },
     "execution_count": 167,
     "metadata": {},
     "output_type": "execute_result"
    }
   ],
   "source": [
    "model = RankingModel()\n",
    "\n",
    "model.call((tf.convert_to_tensor(tf.convert_to_tensor(['1'])), tf.convert_to_tensor(['32281'])))"
   ],
   "metadata": {
    "collapsed": false,
    "ExecuteTime": {
     "end_time": "2024-05-12T17:44:11.152819Z",
     "start_time": "2024-05-12T17:44:11.035951Z"
    }
   },
   "id": "fd9da7c1667eb1b7",
   "execution_count": 167
  },
  {
   "cell_type": "code",
   "outputs": [],
   "source": [
    "task = tfrs.tasks.Ranking(\n",
    "  loss = tf.keras.losses.MeanSquaredError(),\n",
    "  metrics=[tf.keras.metrics.RootMeanSquaredError()]\n",
    ")"
   ],
   "metadata": {
    "collapsed": false,
    "ExecuteTime": {
     "end_time": "2024-05-12T17:22:34.686716Z",
     "start_time": "2024-05-12T17:22:34.653554Z"
    }
   },
   "id": "2ca082d2cefedf88",
   "execution_count": 152
  },
  {
   "cell_type": "code",
   "outputs": [],
   "source": [
    "class AnimeModel(tfrs.models.Model):\n",
    "\n",
    "  def __init__(self):\n",
    "    super().__init__()\n",
    "    self.ranking_model: tf.keras.Model = RankingModel()\n",
    "    self.task: tf.keras.layers.Layer = tfrs.tasks.Ranking(\n",
    "      loss = tf.keras.losses.MeanSquaredError(),\n",
    "      metrics=[tf.keras.metrics.RootMeanSquaredError()]\n",
    "    )\n",
    "\n",
    "  def call(self, features: Dict[str, tf.Tensor]) -> tf.Tensor:\n",
    "    return self.ranking_model(\n",
    "        (features[\"user_id\"], features[\"anime_id\"]))\n",
    "\n",
    "  def compute_loss(self, features: Dict[Text, tf.Tensor], training=False) -> tf.Tensor:\n",
    "    \"\"\"labels = features.pop(\"rating\")\n",
    "\n",
    "    rating_predictions = self(features)\n",
    "    \"\"\"\n",
    "    features = features.copy()  # Make a shallow copy of features\n",
    "    labels = features.pop(\"rating\")\n",
    "\n",
    "    rating_predictions = self(features)\n",
    "\n",
    "    # The task computes the loss and the metrics.\n",
    "    return self.task(labels=labels, predictions=rating_predictions)"
   ],
   "metadata": {
    "collapsed": false,
    "ExecuteTime": {
     "end_time": "2024-05-12T17:55:14.386424Z",
     "start_time": "2024-05-12T17:55:14.357244Z"
    }
   },
   "id": "e48bb465d22649b0",
   "execution_count": 184
  },
  {
   "cell_type": "code",
   "outputs": [],
   "source": [
    "model = AnimeModel()\n",
    "model.compile(optimizer=tf.keras.optimizers.Adagrad(learning_rate=0.1))"
   ],
   "metadata": {
    "collapsed": false,
    "ExecuteTime": {
     "end_time": "2024-05-12T17:55:15.038097Z",
     "start_time": "2024-05-12T17:55:14.930562Z"
    }
   },
   "id": "bdae3790d1b86cf7",
   "execution_count": 185
  },
  {
   "cell_type": "code",
   "outputs": [],
   "source": [
    "cached_train = train.shuffle(100_000).batch(8192).cache()\n",
    "cached_test = test.batch(4096).cache()\n"
   ],
   "metadata": {
    "collapsed": false,
    "ExecuteTime": {
     "end_time": "2024-05-12T17:55:15.860926Z",
     "start_time": "2024-05-12T17:55:15.840369Z"
    }
   },
   "id": "4b00203011f79351",
   "execution_count": 186
  },
  {
   "cell_type": "code",
   "outputs": [
    {
     "name": "stdout",
     "output_type": "stream",
     "text": [
      "Epoch 1/100\n",
      "\u001B[1m10/10\u001B[0m \u001B[32m━━━━━━━━━━━━━━━━━━━━\u001B[0m\u001B[37m\u001B[0m \u001B[1m0s\u001B[0m 11ms/step - loss: 5.6920 - regularization_loss: 0.0000e+00 - root_mean_squared_error: 2.4293 - total_loss: 5.6920\n",
      "Epoch 2/100\n",
      "\u001B[1m10/10\u001B[0m \u001B[32m━━━━━━━━━━━━━━━━━━━━\u001B[0m\u001B[37m\u001B[0m \u001B[1m0s\u001B[0m 9ms/step - loss: 5.0316 - regularization_loss: 0.0000e+00 - root_mean_squared_error: 2.2672 - total_loss: 5.0316\n",
      "Epoch 3/100\n",
      "\u001B[1m10/10\u001B[0m \u001B[32m━━━━━━━━━━━━━━━━━━━━\u001B[0m\u001B[37m\u001B[0m \u001B[1m0s\u001B[0m 10ms/step - loss: 4.7583 - regularization_loss: 0.0000e+00 - root_mean_squared_error: 2.1992 - total_loss: 4.7583\n",
      "Epoch 4/100\n",
      "\u001B[1m10/10\u001B[0m \u001B[32m━━━━━━━━━━━━━━━━━━━━\u001B[0m\u001B[37m\u001B[0m \u001B[1m0s\u001B[0m 10ms/step - loss: 4.5929 - regularization_loss: 0.0000e+00 - root_mean_squared_error: 2.1584 - total_loss: 4.5929\n",
      "Epoch 5/100\n",
      "\u001B[1m10/10\u001B[0m \u001B[32m━━━━━━━━━━━━━━━━━━━━\u001B[0m\u001B[37m\u001B[0m \u001B[1m0s\u001B[0m 9ms/step - loss: 4.4828 - regularization_loss: 0.0000e+00 - root_mean_squared_error: 2.1318 - total_loss: 4.4828\n",
      "Epoch 6/100\n",
      "\u001B[1m10/10\u001B[0m \u001B[32m━━━━━━━━━━━━━━━━━━━━\u001B[0m\u001B[37m\u001B[0m \u001B[1m0s\u001B[0m 10ms/step - loss: 4.3999 - regularization_loss: 0.0000e+00 - root_mean_squared_error: 2.1113 - total_loss: 4.3999\n",
      "Epoch 7/100\n",
      "\u001B[1m10/10\u001B[0m \u001B[32m━━━━━━━━━━━━━━━━━━━━\u001B[0m\u001B[37m\u001B[0m \u001B[1m0s\u001B[0m 13ms/step - loss: 4.3614 - regularization_loss: 0.0000e+00 - root_mean_squared_error: 2.0989 - total_loss: 4.3614\n",
      "Epoch 8/100\n",
      "\u001B[1m10/10\u001B[0m \u001B[32m━━━━━━━━━━━━━━━━━━━━\u001B[0m\u001B[37m\u001B[0m \u001B[1m0s\u001B[0m 10ms/step - loss: 4.4225 - regularization_loss: 0.0000e+00 - root_mean_squared_error: 2.1104 - total_loss: 4.4225\n",
      "Epoch 9/100\n",
      "\u001B[1m10/10\u001B[0m \u001B[32m━━━━━━━━━━━━━━━━━━━━\u001B[0m\u001B[37m\u001B[0m \u001B[1m0s\u001B[0m 9ms/step - loss: 4.3845 - regularization_loss: 0.0000e+00 - root_mean_squared_error: 2.1110 - total_loss: 4.3845\n",
      "Epoch 10/100\n",
      "\u001B[1m10/10\u001B[0m \u001B[32m━━━━━━━━━━━━━━━━━━━━\u001B[0m\u001B[37m\u001B[0m \u001B[1m0s\u001B[0m 9ms/step - loss: 4.2847 - regularization_loss: 0.0000e+00 - root_mean_squared_error: 2.0868 - total_loss: 4.2847\n",
      "Epoch 11/100\n",
      "\u001B[1m10/10\u001B[0m \u001B[32m━━━━━━━━━━━━━━━━━━━━\u001B[0m\u001B[37m\u001B[0m \u001B[1m0s\u001B[0m 9ms/step - loss: 4.2185 - regularization_loss: 0.0000e+00 - root_mean_squared_error: 2.0694 - total_loss: 4.2185\n",
      "Epoch 12/100\n",
      "\u001B[1m10/10\u001B[0m \u001B[32m━━━━━━━━━━━━━━━━━━━━\u001B[0m\u001B[37m\u001B[0m \u001B[1m0s\u001B[0m 9ms/step - loss: 4.1792 - regularization_loss: 0.0000e+00 - root_mean_squared_error: 2.0592 - total_loss: 4.1792\n",
      "Epoch 13/100\n",
      "\u001B[1m10/10\u001B[0m \u001B[32m━━━━━━━━━━━━━━━━━━━━\u001B[0m\u001B[37m\u001B[0m \u001B[1m0s\u001B[0m 10ms/step - loss: 4.1534 - regularization_loss: 0.0000e+00 - root_mean_squared_error: 2.0529 - total_loss: 4.1534\n",
      "Epoch 14/100\n",
      "\u001B[1m10/10\u001B[0m \u001B[32m━━━━━━━━━━━━━━━━━━━━\u001B[0m\u001B[37m\u001B[0m \u001B[1m0s\u001B[0m 9ms/step - loss: 4.1331 - regularization_loss: 0.0000e+00 - root_mean_squared_error: 2.0482 - total_loss: 4.1331\n",
      "Epoch 15/100\n",
      "\u001B[1m10/10\u001B[0m \u001B[32m━━━━━━━━━━━━━━━━━━━━\u001B[0m\u001B[37m\u001B[0m \u001B[1m0s\u001B[0m 10ms/step - loss: 4.1141 - regularization_loss: 0.0000e+00 - root_mean_squared_error: 2.0438 - total_loss: 4.1141\n",
      "Epoch 16/100\n",
      "\u001B[1m10/10\u001B[0m \u001B[32m━━━━━━━━━━━━━━━━━━━━\u001B[0m\u001B[37m\u001B[0m \u001B[1m0s\u001B[0m 9ms/step - loss: 4.0941 - regularization_loss: 0.0000e+00 - root_mean_squared_error: 2.0393 - total_loss: 4.0941\n",
      "Epoch 17/100\n",
      "\u001B[1m10/10\u001B[0m \u001B[32m━━━━━━━━━━━━━━━━━━━━\u001B[0m\u001B[37m\u001B[0m \u001B[1m0s\u001B[0m 10ms/step - loss: 4.0726 - regularization_loss: 0.0000e+00 - root_mean_squared_error: 2.0343 - total_loss: 4.0726\n",
      "Epoch 18/100\n",
      "\u001B[1m10/10\u001B[0m \u001B[32m━━━━━━━━━━━━━━━━━━━━\u001B[0m\u001B[37m\u001B[0m \u001B[1m0s\u001B[0m 9ms/step - loss: 4.0516 - regularization_loss: 0.0000e+00 - root_mean_squared_error: 2.0292 - total_loss: 4.0516\n",
      "Epoch 19/100\n",
      "\u001B[1m10/10\u001B[0m \u001B[32m━━━━━━━━━━━━━━━━━━━━\u001B[0m\u001B[37m\u001B[0m \u001B[1m0s\u001B[0m 9ms/step - loss: 4.0333 - regularization_loss: 0.0000e+00 - root_mean_squared_error: 2.0246 - total_loss: 4.0333\n",
      "Epoch 20/100\n",
      "\u001B[1m10/10\u001B[0m \u001B[32m━━━━━━━━━━━━━━━━━━━━\u001B[0m\u001B[37m\u001B[0m \u001B[1m0s\u001B[0m 9ms/step - loss: 4.0174 - regularization_loss: 0.0000e+00 - root_mean_squared_error: 2.0207 - total_loss: 4.0174\n",
      "Epoch 21/100\n",
      "\u001B[1m10/10\u001B[0m \u001B[32m━━━━━━━━━━━━━━━━━━━━\u001B[0m\u001B[37m\u001B[0m \u001B[1m0s\u001B[0m 9ms/step - loss: 4.0013 - regularization_loss: 0.0000e+00 - root_mean_squared_error: 2.0170 - total_loss: 4.0013\n",
      "Epoch 22/100\n",
      "\u001B[1m10/10\u001B[0m \u001B[32m━━━━━━━━━━━━━━━━━━━━\u001B[0m\u001B[37m\u001B[0m \u001B[1m0s\u001B[0m 9ms/step - loss: 3.9817 - regularization_loss: 0.0000e+00 - root_mean_squared_error: 2.0125 - total_loss: 3.9817 \n",
      "Epoch 23/100\n",
      "\u001B[1m10/10\u001B[0m \u001B[32m━━━━━━━━━━━━━━━━━━━━\u001B[0m\u001B[37m\u001B[0m \u001B[1m0s\u001B[0m 9ms/step - loss: 3.9579 - regularization_loss: 0.0000e+00 - root_mean_squared_error: 2.0069 - total_loss: 3.9579\n",
      "Epoch 24/100\n",
      "\u001B[1m10/10\u001B[0m \u001B[32m━━━━━━━━━━━━━━━━━━━━\u001B[0m\u001B[37m\u001B[0m \u001B[1m0s\u001B[0m 9ms/step - loss: 3.9320 - regularization_loss: 0.0000e+00 - root_mean_squared_error: 2.0006 - total_loss: 3.9320 \n",
      "Epoch 25/100\n",
      "\u001B[1m10/10\u001B[0m \u001B[32m━━━━━━━━━━━━━━━━━━━━\u001B[0m\u001B[37m\u001B[0m \u001B[1m0s\u001B[0m 10ms/step - loss: 3.9077 - regularization_loss: 0.0000e+00 - root_mean_squared_error: 1.9947 - total_loss: 3.9077\n",
      "Epoch 26/100\n",
      "\u001B[1m10/10\u001B[0m \u001B[32m━━━━━━━━━━━━━━━━━━━━\u001B[0m\u001B[37m\u001B[0m \u001B[1m0s\u001B[0m 9ms/step - loss: 3.8848 - regularization_loss: 0.0000e+00 - root_mean_squared_error: 1.9891 - total_loss: 3.8848\n",
      "Epoch 27/100\n",
      "\u001B[1m10/10\u001B[0m \u001B[32m━━━━━━━━━━━━━━━━━━━━\u001B[0m\u001B[37m\u001B[0m \u001B[1m0s\u001B[0m 9ms/step - loss: 3.8618 - regularization_loss: 0.0000e+00 - root_mean_squared_error: 1.9836 - total_loss: 3.8618\n",
      "Epoch 28/100\n",
      "\u001B[1m10/10\u001B[0m \u001B[32m━━━━━━━━━━━━━━━━━━━━\u001B[0m\u001B[37m\u001B[0m \u001B[1m0s\u001B[0m 9ms/step - loss: 3.8378 - regularization_loss: 0.0000e+00 - root_mean_squared_error: 1.9779 - total_loss: 3.8378\n",
      "Epoch 29/100\n",
      "\u001B[1m10/10\u001B[0m \u001B[32m━━━━━━━━━━━━━━━━━━━━\u001B[0m\u001B[37m\u001B[0m \u001B[1m0s\u001B[0m 11ms/step - loss: 3.8112 - regularization_loss: 0.0000e+00 - root_mean_squared_error: 1.9718 - total_loss: 3.8112\n",
      "Epoch 30/100\n",
      "\u001B[1m10/10\u001B[0m \u001B[32m━━━━━━━━━━━━━━━━━━━━\u001B[0m\u001B[37m\u001B[0m \u001B[1m0s\u001B[0m 10ms/step - loss: 3.7828 - regularization_loss: 0.0000e+00 - root_mean_squared_error: 1.9651 - total_loss: 3.7828\n",
      "Epoch 31/100\n",
      "\u001B[1m10/10\u001B[0m \u001B[32m━━━━━━━━━━━━━━━━━━━━\u001B[0m\u001B[37m\u001B[0m \u001B[1m0s\u001B[0m 9ms/step - loss: 3.7710 - regularization_loss: 0.0000e+00 - root_mean_squared_error: 1.9608 - total_loss: 3.7710\n",
      "Epoch 32/100\n",
      "\u001B[1m10/10\u001B[0m \u001B[32m━━━━━━━━━━━━━━━━━━━━\u001B[0m\u001B[37m\u001B[0m \u001B[1m0s\u001B[0m 10ms/step - loss: 3.8257 - regularization_loss: 0.0000e+00 - root_mean_squared_error: 1.9717 - total_loss: 3.8257\n",
      "Epoch 33/100\n",
      "\u001B[1m10/10\u001B[0m \u001B[32m━━━━━━━━━━━━━━━━━━━━\u001B[0m\u001B[37m\u001B[0m \u001B[1m0s\u001B[0m 10ms/step - loss: 3.8121 - regularization_loss: 0.0000e+00 - root_mean_squared_error: 1.9789 - total_loss: 3.8121\n",
      "Epoch 34/100\n",
      "\u001B[1m10/10\u001B[0m \u001B[32m━━━━━━━━━━━━━━━━━━━━\u001B[0m\u001B[37m\u001B[0m \u001B[1m0s\u001B[0m 9ms/step - loss: 3.7037 - regularization_loss: 0.0000e+00 - root_mean_squared_error: 1.9486 - total_loss: 3.7037\n",
      "Epoch 35/100\n",
      "\u001B[1m10/10\u001B[0m \u001B[32m━━━━━━━━━━━━━━━━━━━━\u001B[0m\u001B[37m\u001B[0m \u001B[1m0s\u001B[0m 10ms/step - loss: 3.7219 - regularization_loss: 0.0000e+00 - root_mean_squared_error: 1.9387 - total_loss: 3.7219\n",
      "Epoch 36/100\n",
      "\u001B[1m10/10\u001B[0m \u001B[32m━━━━━━━━━━━━━━━━━━━━\u001B[0m\u001B[37m\u001B[0m \u001B[1m0s\u001B[0m 9ms/step - loss: 3.8205 - regularization_loss: 0.0000e+00 - root_mean_squared_error: 1.9704 - total_loss: 3.8205\n",
      "Epoch 37/100\n",
      "\u001B[1m10/10\u001B[0m \u001B[32m━━━━━━━━━━━━━━━━━━━━\u001B[0m\u001B[37m\u001B[0m \u001B[1m0s\u001B[0m 10ms/step - loss: 3.6901 - regularization_loss: 0.0000e+00 - root_mean_squared_error: 1.9479 - total_loss: 3.6901\n",
      "Epoch 38/100\n",
      "\u001B[1m10/10\u001B[0m \u001B[32m━━━━━━━━━━━━━━━━━━━━\u001B[0m\u001B[37m\u001B[0m \u001B[1m0s\u001B[0m 10ms/step - loss: 3.6004 - regularization_loss: 0.0000e+00 - root_mean_squared_error: 1.9195 - total_loss: 3.6004\n",
      "Epoch 39/100\n",
      "\u001B[1m10/10\u001B[0m \u001B[32m━━━━━━━━━━━━━━━━━━━━\u001B[0m\u001B[37m\u001B[0m \u001B[1m0s\u001B[0m 9ms/step - loss: 3.5973 - regularization_loss: 0.0000e+00 - root_mean_squared_error: 1.9166 - total_loss: 3.5973\n",
      "Epoch 40/100\n",
      "\u001B[1m10/10\u001B[0m \u001B[32m━━━━━━━━━━━━━━━━━━━━\u001B[0m\u001B[37m\u001B[0m \u001B[1m0s\u001B[0m 9ms/step - loss: 3.5878 - regularization_loss: 0.0000e+00 - root_mean_squared_error: 1.9167 - total_loss: 3.5878\n",
      "Epoch 41/100\n",
      "\u001B[1m10/10\u001B[0m \u001B[32m━━━━━━━━━━━━━━━━━━━━\u001B[0m\u001B[37m\u001B[0m \u001B[1m0s\u001B[0m 9ms/step - loss: 3.5481 - regularization_loss: 0.0000e+00 - root_mean_squared_error: 1.9059 - total_loss: 3.5481 \n",
      "Epoch 42/100\n",
      "\u001B[1m10/10\u001B[0m \u001B[32m━━━━━━━━━━━━━━━━━━━━\u001B[0m\u001B[37m\u001B[0m \u001B[1m0s\u001B[0m 9ms/step - loss: 3.5320 - regularization_loss: 0.0000e+00 - root_mean_squared_error: 1.8982 - total_loss: 3.5320\n",
      "Epoch 43/100\n",
      "\u001B[1m10/10\u001B[0m \u001B[32m━━━━━━━━━━━━━━━━━━━━\u001B[0m\u001B[37m\u001B[0m \u001B[1m0s\u001B[0m 9ms/step - loss: 3.5473 - regularization_loss: 0.0000e+00 - root_mean_squared_error: 1.9004 - total_loss: 3.5473\n",
      "Epoch 44/100\n",
      "\u001B[1m10/10\u001B[0m \u001B[32m━━━━━━━━━━━━━━━━━━━━\u001B[0m\u001B[37m\u001B[0m \u001B[1m0s\u001B[0m 10ms/step - loss: 3.5384 - regularization_loss: 0.0000e+00 - root_mean_squared_error: 1.9012 - total_loss: 3.5384\n",
      "Epoch 45/100\n",
      "\u001B[1m10/10\u001B[0m \u001B[32m━━━━━━━━━━━━━━━━━━━━\u001B[0m\u001B[37m\u001B[0m \u001B[1m0s\u001B[0m 10ms/step - loss: 3.4937 - regularization_loss: 0.0000e+00 - root_mean_squared_error: 1.8908 - total_loss: 3.4937\n",
      "Epoch 46/100\n",
      "\u001B[1m10/10\u001B[0m \u001B[32m━━━━━━━━━━━━━━━━━━━━\u001B[0m\u001B[37m\u001B[0m \u001B[1m0s\u001B[0m 9ms/step - loss: 3.4724 - regularization_loss: 0.0000e+00 - root_mean_squared_error: 1.8835 - total_loss: 3.4724\n",
      "Epoch 47/100\n",
      "\u001B[1m10/10\u001B[0m \u001B[32m━━━━━━━━━━━━━━━━━━━━\u001B[0m\u001B[37m\u001B[0m \u001B[1m0s\u001B[0m 11ms/step - loss: 3.4708 - regularization_loss: 0.0000e+00 - root_mean_squared_error: 1.8830 - total_loss: 3.4708\n",
      "Epoch 48/100\n",
      "\u001B[1m10/10\u001B[0m \u001B[32m━━━━━━━━━━━━━━━━━━━━\u001B[0m\u001B[37m\u001B[0m \u001B[1m0s\u001B[0m 9ms/step - loss: 3.4538 - regularization_loss: 0.0000e+00 - root_mean_squared_error: 1.8793 - total_loss: 3.4538\n",
      "Epoch 49/100\n",
      "\u001B[1m10/10\u001B[0m \u001B[32m━━━━━━━━━━━━━━━━━━━━\u001B[0m\u001B[37m\u001B[0m \u001B[1m0s\u001B[0m 10ms/step - loss: 3.4354 - regularization_loss: 0.0000e+00 - root_mean_squared_error: 1.8727 - total_loss: 3.4354\n",
      "Epoch 50/100\n",
      "\u001B[1m10/10\u001B[0m \u001B[32m━━━━━━━━━━━━━━━━━━━━\u001B[0m\u001B[37m\u001B[0m \u001B[1m0s\u001B[0m 9ms/step - loss: 3.4487 - regularization_loss: 0.0000e+00 - root_mean_squared_error: 1.8730 - total_loss: 3.4487\n",
      "Epoch 51/100\n",
      "\u001B[1m10/10\u001B[0m \u001B[32m━━━━━━━━━━━━━━━━━━━━\u001B[0m\u001B[37m\u001B[0m \u001B[1m0s\u001B[0m 9ms/step - loss: 3.4703 - regularization_loss: 0.0000e+00 - root_mean_squared_error: 1.8797 - total_loss: 3.4703\n",
      "Epoch 52/100\n",
      "\u001B[1m10/10\u001B[0m \u001B[32m━━━━━━━━━━━━━━━━━━━━\u001B[0m\u001B[37m\u001B[0m \u001B[1m0s\u001B[0m 9ms/step - loss: 3.4405 - regularization_loss: 0.0000e+00 - root_mean_squared_error: 1.8748 - total_loss: 3.4405\n",
      "Epoch 53/100\n",
      "\u001B[1m10/10\u001B[0m \u001B[32m━━━━━━━━━━━━━━━━━━━━\u001B[0m\u001B[37m\u001B[0m \u001B[1m0s\u001B[0m 10ms/step - loss: 3.4010 - regularization_loss: 0.0000e+00 - root_mean_squared_error: 1.8633 - total_loss: 3.4010\n",
      "Epoch 54/100\n",
      "\u001B[1m10/10\u001B[0m \u001B[32m━━━━━━━━━━━━━━━━━━━━\u001B[0m\u001B[37m\u001B[0m \u001B[1m0s\u001B[0m 10ms/step - loss: 3.3872 - regularization_loss: 0.0000e+00 - root_mean_squared_error: 1.8582 - total_loss: 3.3872\n",
      "Epoch 55/100\n",
      "\u001B[1m10/10\u001B[0m \u001B[32m━━━━━━━━━━━━━━━━━━━━\u001B[0m\u001B[37m\u001B[0m \u001B[1m0s\u001B[0m 9ms/step - loss: 3.3814 - regularization_loss: 0.0000e+00 - root_mean_squared_error: 1.8569 - total_loss: 3.3814\n",
      "Epoch 56/100\n",
      "\u001B[1m10/10\u001B[0m \u001B[32m━━━━━━━━━━━━━━━━━━━━\u001B[0m\u001B[37m\u001B[0m \u001B[1m0s\u001B[0m 10ms/step - loss: 3.3687 - regularization_loss: 0.0000e+00 - root_mean_squared_error: 1.8535 - total_loss: 3.3687\n",
      "Epoch 57/100\n",
      "\u001B[1m10/10\u001B[0m \u001B[32m━━━━━━━━━━━━━━━━━━━━\u001B[0m\u001B[37m\u001B[0m \u001B[1m0s\u001B[0m 10ms/step - loss: 3.3585 - regularization_loss: 0.0000e+00 - root_mean_squared_error: 1.8497 - total_loss: 3.3585\n",
      "Epoch 58/100\n",
      "\u001B[1m10/10\u001B[0m \u001B[32m━━━━━━━━━━━━━━━━━━━━\u001B[0m\u001B[37m\u001B[0m \u001B[1m0s\u001B[0m 10ms/step - loss: 3.3686 - regularization_loss: 0.0000e+00 - root_mean_squared_error: 1.8504 - total_loss: 3.3686\n",
      "Epoch 59/100\n",
      "\u001B[1m10/10\u001B[0m \u001B[32m━━━━━━━━━━━━━━━━━━━━\u001B[0m\u001B[37m\u001B[0m \u001B[1m0s\u001B[0m 10ms/step - loss: 3.3933 - regularization_loss: 0.0000e+00 - root_mean_squared_error: 1.8568 - total_loss: 3.3933\n",
      "Epoch 60/100\n",
      "\u001B[1m10/10\u001B[0m \u001B[32m━━━━━━━━━━━━━━━━━━━━\u001B[0m\u001B[37m\u001B[0m \u001B[1m0s\u001B[0m 10ms/step - loss: 3.3873 - regularization_loss: 0.0000e+00 - root_mean_squared_error: 1.8585 - total_loss: 3.3873\n",
      "Epoch 61/100\n",
      "\u001B[1m10/10\u001B[0m \u001B[32m━━━━━━━━━━━━━━━━━━━━\u001B[0m\u001B[37m\u001B[0m \u001B[1m0s\u001B[0m 9ms/step - loss: 3.3455 - regularization_loss: 0.0000e+00 - root_mean_squared_error: 1.8485 - total_loss: 3.3455\n",
      "Epoch 62/100\n",
      "\u001B[1m10/10\u001B[0m \u001B[32m━━━━━━━━━━━━━━━━━━━━\u001B[0m\u001B[37m\u001B[0m \u001B[1m0s\u001B[0m 10ms/step - loss: 3.3194 - regularization_loss: 0.0000e+00 - root_mean_squared_error: 1.8400 - total_loss: 3.3194\n",
      "Epoch 63/100\n",
      "\u001B[1m10/10\u001B[0m \u001B[32m━━━━━━━━━━━━━━━━━━━━\u001B[0m\u001B[37m\u001B[0m \u001B[1m0s\u001B[0m 9ms/step - loss: 3.3170 - regularization_loss: 0.0000e+00 - root_mean_squared_error: 1.8384 - total_loss: 3.3170\n",
      "Epoch 64/100\n",
      "\u001B[1m10/10\u001B[0m \u001B[32m━━━━━━━━━━━━━━━━━━━━\u001B[0m\u001B[37m\u001B[0m \u001B[1m0s\u001B[0m 9ms/step - loss: 3.3173 - regularization_loss: 0.0000e+00 - root_mean_squared_error: 1.8390 - total_loss: 3.3173\n",
      "Epoch 65/100\n",
      "\u001B[1m10/10\u001B[0m \u001B[32m━━━━━━━━━━━━━━━━━━━━\u001B[0m\u001B[37m\u001B[0m \u001B[1m0s\u001B[0m 9ms/step - loss: 3.3050 - regularization_loss: 0.0000e+00 - root_mean_squared_error: 1.8363 - total_loss: 3.3050\n",
      "Epoch 66/100\n",
      "\u001B[1m10/10\u001B[0m \u001B[32m━━━━━━━━━━━━━━━━━━━━\u001B[0m\u001B[37m\u001B[0m \u001B[1m0s\u001B[0m 9ms/step - loss: 3.2902 - regularization_loss: 0.0000e+00 - root_mean_squared_error: 1.8316 - total_loss: 3.2902\n",
      "Epoch 67/100\n",
      "\u001B[1m10/10\u001B[0m \u001B[32m━━━━━━━━━━━━━━━━━━━━\u001B[0m\u001B[37m\u001B[0m \u001B[1m0s\u001B[0m 12ms/step - loss: 3.2982 - regularization_loss: 0.0000e+00 - root_mean_squared_error: 1.8310 - total_loss: 3.2982\n",
      "Epoch 68/100\n",
      "\u001B[1m10/10\u001B[0m \u001B[32m━━━━━━━━━━━━━━━━━━━━\u001B[0m\u001B[37m\u001B[0m \u001B[1m0s\u001B[0m 9ms/step - loss: 3.3469 - regularization_loss: 0.0000e+00 - root_mean_squared_error: 1.8415 - total_loss: 3.3469\n",
      "Epoch 69/100\n",
      "\u001B[1m10/10\u001B[0m \u001B[32m━━━━━━━━━━━━━━━━━━━━\u001B[0m\u001B[37m\u001B[0m \u001B[1m0s\u001B[0m 9ms/step - loss: 3.3696 - regularization_loss: 0.0000e+00 - root_mean_squared_error: 1.8529 - total_loss: 3.3696\n",
      "Epoch 70/100\n",
      "\u001B[1m10/10\u001B[0m \u001B[32m━━━━━━━━━━━━━━━━━━━━\u001B[0m\u001B[37m\u001B[0m \u001B[1m0s\u001B[0m 10ms/step - loss: 3.3096 - regularization_loss: 0.0000e+00 - root_mean_squared_error: 1.8403 - total_loss: 3.3096\n",
      "Epoch 71/100\n",
      "\u001B[1m10/10\u001B[0m \u001B[32m━━━━━━━━━━━━━━━━━━━━\u001B[0m\u001B[37m\u001B[0m \u001B[1m0s\u001B[0m 10ms/step - loss: 3.2652 - regularization_loss: 0.0000e+00 - root_mean_squared_error: 1.8255 - total_loss: 3.2652\n",
      "Epoch 72/100\n",
      "\u001B[1m10/10\u001B[0m \u001B[32m━━━━━━━━━━━━━━━━━━━━\u001B[0m\u001B[37m\u001B[0m \u001B[1m0s\u001B[0m 10ms/step - loss: 3.2603 - regularization_loss: 0.0000e+00 - root_mean_squared_error: 1.8224 - total_loss: 3.2603\n",
      "Epoch 73/100\n",
      "\u001B[1m10/10\u001B[0m \u001B[32m━━━━━━━━━━━━━━━━━━━━\u001B[0m\u001B[37m\u001B[0m \u001B[1m0s\u001B[0m 10ms/step - loss: 3.2644 - regularization_loss: 0.0000e+00 - root_mean_squared_error: 1.8238 - total_loss: 3.2644\n",
      "Epoch 74/100\n",
      "\u001B[1m10/10\u001B[0m \u001B[32m━━━━━━━━━━━━━━━━━━━━\u001B[0m\u001B[37m\u001B[0m \u001B[1m0s\u001B[0m 11ms/step - loss: 3.2560 - regularization_loss: 0.0000e+00 - root_mean_squared_error: 1.8224 - total_loss: 3.2560\n",
      "Epoch 75/100\n",
      "\u001B[1m10/10\u001B[0m \u001B[32m━━━━━━━━━━━━━━━━━━━━\u001B[0m\u001B[37m\u001B[0m \u001B[1m0s\u001B[0m 10ms/step - loss: 3.2416 - regularization_loss: 0.0000e+00 - root_mean_squared_error: 1.8183 - total_loss: 3.2416\n",
      "Epoch 76/100\n",
      "\u001B[1m10/10\u001B[0m \u001B[32m━━━━━━━━━━━━━━━━━━━━\u001B[0m\u001B[37m\u001B[0m \u001B[1m0s\u001B[0m 9ms/step - loss: 3.2380 - regularization_loss: 0.0000e+00 - root_mean_squared_error: 1.8162 - total_loss: 3.2380\n",
      "Epoch 77/100\n",
      "\u001B[1m10/10\u001B[0m \u001B[32m━━━━━━━━━━━━━━━━━━━━\u001B[0m\u001B[37m\u001B[0m \u001B[1m0s\u001B[0m 10ms/step - loss: 3.2602 - regularization_loss: 0.0000e+00 - root_mean_squared_error: 1.8201 - total_loss: 3.2602\n",
      "Epoch 78/100\n",
      "\u001B[1m10/10\u001B[0m \u001B[32m━━━━━━━━━━━━━━━━━━━━\u001B[0m\u001B[37m\u001B[0m \u001B[1m0s\u001B[0m 10ms/step - loss: 3.2972 - regularization_loss: 0.0000e+00 - root_mean_squared_error: 1.8305 - total_loss: 3.2972\n",
      "Epoch 79/100\n",
      "\u001B[1m10/10\u001B[0m \u001B[32m━━━━━━━━━━━━━━━━━━━━\u001B[0m\u001B[37m\u001B[0m \u001B[1m0s\u001B[0m 10ms/step - loss: 3.2882 - regularization_loss: 0.0000e+00 - root_mean_squared_error: 1.8328 - total_loss: 3.2882\n",
      "Epoch 80/100\n",
      "\u001B[1m10/10\u001B[0m \u001B[32m━━━━━━━━━━━━━━━━━━━━\u001B[0m\u001B[37m\u001B[0m \u001B[1m0s\u001B[0m 10ms/step - loss: 3.2413 - regularization_loss: 0.0000e+00 - root_mean_squared_error: 1.8210 - total_loss: 3.2413\n",
      "Epoch 81/100\n",
      "\u001B[1m10/10\u001B[0m \u001B[32m━━━━━━━━━━━━━━━━━━━━\u001B[0m\u001B[37m\u001B[0m \u001B[1m0s\u001B[0m 9ms/step - loss: 3.2127 - regularization_loss: 0.0000e+00 - root_mean_squared_error: 1.8112 - total_loss: 3.2127\n",
      "Epoch 82/100\n",
      "\u001B[1m10/10\u001B[0m \u001B[32m━━━━━━━━━━━━━━━━━━━━\u001B[0m\u001B[37m\u001B[0m \u001B[1m0s\u001B[0m 10ms/step - loss: 3.2084 - regularization_loss: 0.0000e+00 - root_mean_squared_error: 1.8093 - total_loss: 3.2084\n",
      "Epoch 83/100\n",
      "\u001B[1m10/10\u001B[0m \u001B[32m━━━━━━━━━━━━━━━━━━━━\u001B[0m\u001B[37m\u001B[0m \u001B[1m0s\u001B[0m 9ms/step - loss: 3.2114 - regularization_loss: 0.0000e+00 - root_mean_squared_error: 1.8100 - total_loss: 3.2114\n",
      "Epoch 84/100\n",
      "\u001B[1m10/10\u001B[0m \u001B[32m━━━━━━━━━━━━━━━━━━━━\u001B[0m\u001B[37m\u001B[0m \u001B[1m0s\u001B[0m 10ms/step - loss: 3.2077 - regularization_loss: 0.0000e+00 - root_mean_squared_error: 1.8097 - total_loss: 3.2077\n",
      "Epoch 85/100\n",
      "\u001B[1m10/10\u001B[0m \u001B[32m━━━━━━━━━━━━━━━━━━━━\u001B[0m\u001B[37m\u001B[0m \u001B[1m0s\u001B[0m 10ms/step - loss: 3.1968 - regularization_loss: 0.0000e+00 - root_mean_squared_error: 1.8070 - total_loss: 3.1968\n",
      "Epoch 86/100\n",
      "\u001B[1m10/10\u001B[0m \u001B[32m━━━━━━━━━━━━━━━━━━━━\u001B[0m\u001B[37m\u001B[0m \u001B[1m0s\u001B[0m 10ms/step - loss: 3.1891 - regularization_loss: 0.0000e+00 - root_mean_squared_error: 1.8041 - total_loss: 3.1891\n",
      "Epoch 87/100\n",
      "\u001B[1m10/10\u001B[0m \u001B[32m━━━━━━━━━━━━━━━━━━━━\u001B[0m\u001B[37m\u001B[0m \u001B[1m0s\u001B[0m 9ms/step - loss: 3.1992 - regularization_loss: 0.0000e+00 - root_mean_squared_error: 1.8050 - total_loss: 3.1992 \n",
      "Epoch 88/100\n",
      "\u001B[1m10/10\u001B[0m \u001B[32m━━━━━━━━━━━━━━━━━━━━\u001B[0m\u001B[37m\u001B[0m \u001B[1m0s\u001B[0m 11ms/step - loss: 3.2396 - regularization_loss: 0.0000e+00 - root_mean_squared_error: 1.8140 - total_loss: 3.2396\n",
      "Epoch 89/100\n",
      "\u001B[1m10/10\u001B[0m \u001B[32m━━━━━━━━━━━━━━━━━━━━\u001B[0m\u001B[37m\u001B[0m \u001B[1m0s\u001B[0m 9ms/step - loss: 3.2722 - regularization_loss: 0.0000e+00 - root_mean_squared_error: 1.8262 - total_loss: 3.2722\n",
      "Epoch 90/100\n",
      "\u001B[1m10/10\u001B[0m \u001B[32m━━━━━━━━━━━━━━━━━━━━\u001B[0m\u001B[37m\u001B[0m \u001B[1m0s\u001B[0m 10ms/step - loss: 3.2318 - regularization_loss: 0.0000e+00 - root_mean_squared_error: 1.8199 - total_loss: 3.2318\n",
      "Epoch 91/100\n",
      "\u001B[1m10/10\u001B[0m \u001B[32m━━━━━━━━━━━━━━━━━━━━\u001B[0m\u001B[37m\u001B[0m \u001B[1m0s\u001B[0m 9ms/step - loss: 3.1807 - regularization_loss: 0.0000e+00 - root_mean_squared_error: 1.8040 - total_loss: 3.1807\n",
      "Epoch 92/100\n",
      "\u001B[1m10/10\u001B[0m \u001B[32m━━━━━━━━━━━━━━━━━━━━\u001B[0m\u001B[37m\u001B[0m \u001B[1m0s\u001B[0m 10ms/step - loss: 3.1668 - regularization_loss: 0.0000e+00 - root_mean_squared_error: 1.7980 - total_loss: 3.1668\n",
      "Epoch 93/100\n",
      "\u001B[1m10/10\u001B[0m \u001B[32m━━━━━━━━━━━━━━━━━━━━\u001B[0m\u001B[37m\u001B[0m \u001B[1m0s\u001B[0m 10ms/step - loss: 3.1745 - regularization_loss: 0.0000e+00 - root_mean_squared_error: 1.7996 - total_loss: 3.1745\n",
      "Epoch 94/100\n",
      "\u001B[1m10/10\u001B[0m \u001B[32m━━━━━━━━━━━━━━━━━━━━\u001B[0m\u001B[37m\u001B[0m \u001B[1m0s\u001B[0m 9ms/step - loss: 3.1795 - regularization_loss: 0.0000e+00 - root_mean_squared_error: 1.8017 - total_loss: 3.1795\n",
      "Epoch 95/100\n",
      "\u001B[1m10/10\u001B[0m \u001B[32m━━━━━━━━━━━━━━━━━━━━\u001B[0m\u001B[37m\u001B[0m \u001B[1m0s\u001B[0m 10ms/step - loss: 3.1675 - regularization_loss: 0.0000e+00 - root_mean_squared_error: 1.7993 - total_loss: 3.1675\n",
      "Epoch 96/100\n",
      "\u001B[1m10/10\u001B[0m \u001B[32m━━━━━━━━━━━━━━━━━━━━\u001B[0m\u001B[37m\u001B[0m \u001B[1m0s\u001B[0m 9ms/step - loss: 3.1494 - regularization_loss: 0.0000e+00 - root_mean_squared_error: 1.7939 - total_loss: 3.1494\n",
      "Epoch 97/100\n",
      "\u001B[1m10/10\u001B[0m \u001B[32m━━━━━━━━━━━━━━━━━━━━\u001B[0m\u001B[37m\u001B[0m \u001B[1m0s\u001B[0m 9ms/step - loss: 3.1471 - regularization_loss: 0.0000e+00 - root_mean_squared_error: 1.7918 - total_loss: 3.1471\n",
      "Epoch 98/100\n",
      "\u001B[1m10/10\u001B[0m \u001B[32m━━━━━━━━━━━━━━━━━━━━\u001B[0m\u001B[37m\u001B[0m \u001B[1m0s\u001B[0m 11ms/step - loss: 3.1739 - regularization_loss: 0.0000e+00 - root_mean_squared_error: 1.7970 - total_loss: 3.1739\n",
      "Epoch 99/100\n",
      "\u001B[1m10/10\u001B[0m \u001B[32m━━━━━━━━━━━━━━━━━━━━\u001B[0m\u001B[37m\u001B[0m \u001B[1m0s\u001B[0m 11ms/step - loss: 3.2098 - regularization_loss: 0.0000e+00 - root_mean_squared_error: 1.8080 - total_loss: 3.2098\n",
      "Epoch 100/100\n",
      "\u001B[1m10/10\u001B[0m \u001B[32m━━━━━━━━━━━━━━━━━━━━\u001B[0m\u001B[37m\u001B[0m \u001B[1m0s\u001B[0m 10ms/step - loss: 3.1983 - regularization_loss: 0.0000e+00 - root_mean_squared_error: 1.8092 - total_loss: 3.1983\n"
     ]
    },
    {
     "data": {
      "text/plain": "<keras.src.callbacks.history.History at 0x40c0c8f50>"
     },
     "execution_count": 188,
     "metadata": {},
     "output_type": "execute_result"
    }
   ],
   "source": [
    "model.fit(cached_train, epochs=100)"
   ],
   "metadata": {
    "collapsed": false,
    "ExecuteTime": {
     "end_time": "2024-05-12T17:55:41.878486Z",
     "start_time": "2024-05-12T17:55:31.915834Z"
    }
   },
   "id": "bd16c12e45631715",
   "execution_count": 188
  },
  {
   "cell_type": "code",
   "outputs": [
    {
     "name": "stdout",
     "output_type": "stream",
     "text": [
      "\u001B[1m5/5\u001B[0m \u001B[32m━━━━━━━━━━━━━━━━━━━━\u001B[0m\u001B[37m\u001B[0m \u001B[1m1s\u001B[0m 21ms/step - loss: 7.0060 - regularization_loss: 0.0000e+00 - root_mean_squared_error: 2.5220 - total_loss: 7.0060\n"
     ]
    },
    {
     "data": {
      "text/plain": "{'loss': 7.782638072967529,\n 'regularization_loss': 0.0,\n 'root_mean_squared_error': 2.6130995750427246,\n 'total_loss': 7.782638072967529}"
     },
     "execution_count": 189,
     "metadata": {},
     "output_type": "execute_result"
    }
   ],
   "source": [
    "model.evaluate(cached_test, return_dict=True)"
   ],
   "metadata": {
    "collapsed": false,
    "ExecuteTime": {
     "end_time": "2024-05-12T17:55:47.474736Z",
     "start_time": "2024-05-12T17:55:46.805291Z"
    }
   },
   "id": "a102fa3ad63a9c9e",
   "execution_count": 189
  },
  {
   "cell_type": "code",
   "outputs": [
    {
     "name": "stdout",
     "output_type": "stream",
     "text": [
      "Ratings:\n",
      "170: [[9.021084]]\n",
      "154: [[7.4876933]]\n",
      "20: [[7.288632]]\n"
     ]
    }
   ],
   "source": [
    "test_ratings = {}\n",
    "test_movie_titles = [\"20\",\"154\",\"170\"]\n",
    "for movie_title in test_movie_titles:\n",
    "  test_ratings[movie_title] = model({\n",
    "      \"user_id\": tf.convert_to_tensor([\"3\"]),\n",
    "      \"anime_id\": tf.convert_to_tensor([movie_title])\n",
    "  })\n",
    "\n",
    "print(\"Ratings:\")\n",
    "for title, score in sorted(test_ratings.items(), key=lambda x: x[1], reverse=True):\n",
    "  print(f\"{title}: {score}\")"
   ],
   "metadata": {
    "collapsed": false,
    "ExecuteTime": {
     "end_time": "2024-05-12T17:55:55.897813Z",
     "start_time": "2024-05-12T17:55:55.835172Z"
    }
   },
   "id": "a448cce60bd4d2cd",
   "execution_count": 190
  },
  {
   "cell_type": "code",
   "outputs": [],
   "source": [
    "#2345"
   ],
   "metadata": {
    "collapsed": false
   },
   "id": "50ed3d88f6b2cc82"
  }
 ],
 "metadata": {
  "kernelspec": {
   "display_name": "Python 3",
   "language": "python",
   "name": "python3"
  },
  "language_info": {
   "codemirror_mode": {
    "name": "ipython",
    "version": 2
   },
   "file_extension": ".py",
   "mimetype": "text/x-python",
   "name": "python",
   "nbconvert_exporter": "python",
   "pygments_lexer": "ipython2",
   "version": "2.7.6"
  }
 },
 "nbformat": 4,
 "nbformat_minor": 5
}
